{
 "cells": [
  {
   "cell_type": "code",
   "execution_count": 5,
   "metadata": {},
   "outputs": [
    {
     "name": "stdout",
     "output_type": "stream",
     "text": [
      "Requirement already satisfied: numpy in /Users/huxley/miniconda3/lib/python3.11/site-packages (1.26.4)\n",
      "Requirement already satisfied: scipy in /Users/huxley/miniconda3/lib/python3.11/site-packages (1.13.0)\n",
      "Requirement already satisfied: numpy<2.3,>=1.22.4 in /Users/huxley/miniconda3/lib/python3.11/site-packages (from scipy) (1.26.4)\n",
      "Requirement already satisfied: matplotlib in /Users/huxley/miniconda3/lib/python3.11/site-packages (3.8.4)\n",
      "Requirement already satisfied: contourpy>=1.0.1 in /Users/huxley/miniconda3/lib/python3.11/site-packages (from matplotlib) (1.2.1)\n",
      "Requirement already satisfied: cycler>=0.10 in /Users/huxley/miniconda3/lib/python3.11/site-packages (from matplotlib) (0.12.1)\n",
      "Requirement already satisfied: fonttools>=4.22.0 in /Users/huxley/miniconda3/lib/python3.11/site-packages (from matplotlib) (4.51.0)\n",
      "Requirement already satisfied: kiwisolver>=1.3.1 in /Users/huxley/miniconda3/lib/python3.11/site-packages (from matplotlib) (1.4.5)\n",
      "Requirement already satisfied: numpy>=1.21 in /Users/huxley/miniconda3/lib/python3.11/site-packages (from matplotlib) (1.26.4)\n",
      "Requirement already satisfied: packaging>=20.0 in /Users/huxley/miniconda3/lib/python3.11/site-packages (from matplotlib) (23.1)\n",
      "Requirement already satisfied: pillow>=8 in /Users/huxley/miniconda3/lib/python3.11/site-packages (from matplotlib) (10.3.0)\n",
      "Requirement already satisfied: pyparsing>=2.3.1 in /Users/huxley/miniconda3/lib/python3.11/site-packages (from matplotlib) (3.1.2)\n",
      "Requirement already satisfied: python-dateutil>=2.7 in /Users/huxley/miniconda3/lib/python3.11/site-packages (from matplotlib) (2.9.0)\n",
      "Requirement already satisfied: six>=1.5 in /Users/huxley/miniconda3/lib/python3.11/site-packages (from python-dateutil>=2.7->matplotlib) (1.16.0)\n",
      "Requirement already satisfied: pandas in /Users/huxley/miniconda3/lib/python3.11/site-packages (2.2.2)\n",
      "Requirement already satisfied: numpy>=1.23.2 in /Users/huxley/miniconda3/lib/python3.11/site-packages (from pandas) (1.26.4)\n",
      "Requirement already satisfied: python-dateutil>=2.8.2 in /Users/huxley/miniconda3/lib/python3.11/site-packages (from pandas) (2.9.0)\n",
      "Requirement already satisfied: pytz>=2020.1 in /Users/huxley/miniconda3/lib/python3.11/site-packages (from pandas) (2024.1)\n",
      "Requirement already satisfied: tzdata>=2022.7 in /Users/huxley/miniconda3/lib/python3.11/site-packages (from pandas) (2024.1)\n",
      "Requirement already satisfied: six>=1.5 in /Users/huxley/miniconda3/lib/python3.11/site-packages (from python-dateutil>=2.8.2->pandas) (1.16.0)\n",
      "Requirement already satisfied: scikit-learn in /Users/huxley/miniconda3/lib/python3.11/site-packages (1.4.2)\n",
      "Requirement already satisfied: numpy>=1.19.5 in /Users/huxley/miniconda3/lib/python3.11/site-packages (from scikit-learn) (1.26.4)\n",
      "Requirement already satisfied: scipy>=1.6.0 in /Users/huxley/miniconda3/lib/python3.11/site-packages (from scikit-learn) (1.13.0)\n",
      "Requirement already satisfied: joblib>=1.2.0 in /Users/huxley/miniconda3/lib/python3.11/site-packages (from scikit-learn) (1.4.0)\n",
      "Requirement already satisfied: threadpoolctl>=2.0.0 in /Users/huxley/miniconda3/lib/python3.11/site-packages (from scikit-learn) (3.4.0)\n",
      "Requirement already satisfied: networkx in /Users/huxley/miniconda3/lib/python3.11/site-packages (3.3)\n",
      "ERROR: unknown command \"iinstall\" - maybe you meant \"install\"\n",
      "Requirement already satisfied: persim in /Users/huxley/miniconda3/lib/python3.11/site-packages (0.3.5)\n",
      "Requirement already satisfied: scikit-learn in /Users/huxley/miniconda3/lib/python3.11/site-packages (from persim) (1.4.2)\n",
      "Requirement already satisfied: numpy in /Users/huxley/miniconda3/lib/python3.11/site-packages (from persim) (1.26.4)\n",
      "Requirement already satisfied: matplotlib in /Users/huxley/miniconda3/lib/python3.11/site-packages (from persim) (3.8.4)\n",
      "Requirement already satisfied: scipy in /Users/huxley/miniconda3/lib/python3.11/site-packages (from persim) (1.13.0)\n",
      "Requirement already satisfied: hopcroftkarp in /Users/huxley/miniconda3/lib/python3.11/site-packages (from persim) (1.2.5)\n",
      "Requirement already satisfied: deprecated in /Users/huxley/miniconda3/lib/python3.11/site-packages (from persim) (1.2.14)\n",
      "Requirement already satisfied: joblib in /Users/huxley/miniconda3/lib/python3.11/site-packages (from persim) (1.4.0)\n",
      "Requirement already satisfied: wrapt<2,>=1.10 in /Users/huxley/miniconda3/lib/python3.11/site-packages (from deprecated->persim) (1.16.0)\n",
      "Requirement already satisfied: contourpy>=1.0.1 in /Users/huxley/miniconda3/lib/python3.11/site-packages (from matplotlib->persim) (1.2.1)\n",
      "Requirement already satisfied: cycler>=0.10 in /Users/huxley/miniconda3/lib/python3.11/site-packages (from matplotlib->persim) (0.12.1)\n",
      "Requirement already satisfied: fonttools>=4.22.0 in /Users/huxley/miniconda3/lib/python3.11/site-packages (from matplotlib->persim) (4.51.0)\n",
      "Requirement already satisfied: kiwisolver>=1.3.1 in /Users/huxley/miniconda3/lib/python3.11/site-packages (from matplotlib->persim) (1.4.5)\n",
      "Requirement already satisfied: packaging>=20.0 in /Users/huxley/miniconda3/lib/python3.11/site-packages (from matplotlib->persim) (23.1)\n",
      "Requirement already satisfied: pillow>=8 in /Users/huxley/miniconda3/lib/python3.11/site-packages (from matplotlib->persim) (10.3.0)\n",
      "Requirement already satisfied: pyparsing>=2.3.1 in /Users/huxley/miniconda3/lib/python3.11/site-packages (from matplotlib->persim) (3.1.2)\n",
      "Requirement already satisfied: python-dateutil>=2.7 in /Users/huxley/miniconda3/lib/python3.11/site-packages (from matplotlib->persim) (2.9.0)\n",
      "Requirement already satisfied: threadpoolctl>=2.0.0 in /Users/huxley/miniconda3/lib/python3.11/site-packages (from scikit-learn->persim) (3.4.0)\n",
      "Requirement already satisfied: six>=1.5 in /Users/huxley/miniconda3/lib/python3.11/site-packages (from python-dateutil>=2.7->matplotlib->persim) (1.16.0)\n",
      "Requirement already satisfied: torch in /Users/huxley/miniconda3/lib/python3.11/site-packages (2.2.2)\n",
      "Requirement already satisfied: torchvision in /Users/huxley/miniconda3/lib/python3.11/site-packages (0.17.2)\n",
      "Requirement already satisfied: torchaudio in /Users/huxley/miniconda3/lib/python3.11/site-packages (2.2.2)\n",
      "Requirement already satisfied: filelock in /Users/huxley/miniconda3/lib/python3.11/site-packages (from torch) (3.13.4)\n",
      "Requirement already satisfied: typing-extensions>=4.8.0 in /Users/huxley/miniconda3/lib/python3.11/site-packages (from torch) (4.11.0)\n",
      "Requirement already satisfied: sympy in /Users/huxley/miniconda3/lib/python3.11/site-packages (from torch) (1.12)\n",
      "Requirement already satisfied: networkx in /Users/huxley/miniconda3/lib/python3.11/site-packages (from torch) (3.3)\n",
      "Requirement already satisfied: jinja2 in /Users/huxley/miniconda3/lib/python3.11/site-packages (from torch) (3.1.3)\n",
      "Requirement already satisfied: fsspec in /Users/huxley/miniconda3/lib/python3.11/site-packages (from torch) (2024.3.1)\n",
      "Requirement already satisfied: numpy in /Users/huxley/miniconda3/lib/python3.11/site-packages (from torchvision) (1.26.4)\n",
      "Requirement already satisfied: pillow!=8.3.*,>=5.3.0 in /Users/huxley/miniconda3/lib/python3.11/site-packages (from torchvision) (10.3.0)\n",
      "Requirement already satisfied: MarkupSafe>=2.0 in /Users/huxley/miniconda3/lib/python3.11/site-packages (from jinja2->torch) (2.1.5)\n",
      "Requirement already satisfied: mpmath>=0.19 in /Users/huxley/miniconda3/lib/python3.11/site-packages (from sympy->torch) (1.3.0)\n"
     ]
    }
   ],
   "source": [
    "!pip install numpy\n",
    "!pip install scipy\n",
    "!pip install matplotlib\n",
    "!pip install pandas\n",
    "!pip install scikit-learn\n",
    "!pip install networkx\n",
    "!pip iinstall ripser\n",
    "!pip install persim\n",
    "!pip3 install torch torchvision torchaudio\n"
   ]
  },
  {
   "cell_type": "code",
   "execution_count": 6,
   "metadata": {},
   "outputs": [
    {
     "name": "stdout",
     "output_type": "stream",
     "text": [
      "Requirement already satisfied: ripser in /Users/huxley/miniconda3/lib/python3.11/site-packages (0.6.8)\n",
      "Requirement already satisfied: Cython in /Users/huxley/miniconda3/lib/python3.11/site-packages (from ripser) (3.0.10)\n",
      "Requirement already satisfied: numpy in /Users/huxley/miniconda3/lib/python3.11/site-packages (from ripser) (1.26.4)\n",
      "Requirement already satisfied: scipy in /Users/huxley/miniconda3/lib/python3.11/site-packages (from ripser) (1.13.0)\n",
      "Requirement already satisfied: scikit-learn in /Users/huxley/miniconda3/lib/python3.11/site-packages (from ripser) (1.4.2)\n",
      "Requirement already satisfied: persim in /Users/huxley/miniconda3/lib/python3.11/site-packages (from ripser) (0.3.5)\n",
      "Requirement already satisfied: matplotlib in /Users/huxley/miniconda3/lib/python3.11/site-packages (from persim->ripser) (3.8.4)\n",
      "Requirement already satisfied: hopcroftkarp in /Users/huxley/miniconda3/lib/python3.11/site-packages (from persim->ripser) (1.2.5)\n",
      "Requirement already satisfied: deprecated in /Users/huxley/miniconda3/lib/python3.11/site-packages (from persim->ripser) (1.2.14)\n",
      "Requirement already satisfied: joblib in /Users/huxley/miniconda3/lib/python3.11/site-packages (from persim->ripser) (1.4.0)\n",
      "Requirement already satisfied: threadpoolctl>=2.0.0 in /Users/huxley/miniconda3/lib/python3.11/site-packages (from scikit-learn->ripser) (3.4.0)\n",
      "Requirement already satisfied: wrapt<2,>=1.10 in /Users/huxley/miniconda3/lib/python3.11/site-packages (from deprecated->persim->ripser) (1.16.0)\n",
      "Requirement already satisfied: contourpy>=1.0.1 in /Users/huxley/miniconda3/lib/python3.11/site-packages (from matplotlib->persim->ripser) (1.2.1)\n",
      "Requirement already satisfied: cycler>=0.10 in /Users/huxley/miniconda3/lib/python3.11/site-packages (from matplotlib->persim->ripser) (0.12.1)\n",
      "Requirement already satisfied: fonttools>=4.22.0 in /Users/huxley/miniconda3/lib/python3.11/site-packages (from matplotlib->persim->ripser) (4.51.0)\n",
      "Requirement already satisfied: kiwisolver>=1.3.1 in /Users/huxley/miniconda3/lib/python3.11/site-packages (from matplotlib->persim->ripser) (1.4.5)\n",
      "Requirement already satisfied: packaging>=20.0 in /Users/huxley/miniconda3/lib/python3.11/site-packages (from matplotlib->persim->ripser) (23.1)\n",
      "Requirement already satisfied: pillow>=8 in /Users/huxley/miniconda3/lib/python3.11/site-packages (from matplotlib->persim->ripser) (10.3.0)\n",
      "Requirement already satisfied: pyparsing>=2.3.1 in /Users/huxley/miniconda3/lib/python3.11/site-packages (from matplotlib->persim->ripser) (3.1.2)\n",
      "Requirement already satisfied: python-dateutil>=2.7 in /Users/huxley/miniconda3/lib/python3.11/site-packages (from matplotlib->persim->ripser) (2.9.0)\n",
      "Requirement already satisfied: six>=1.5 in /Users/huxley/miniconda3/lib/python3.11/site-packages (from python-dateutil>=2.7->matplotlib->persim->ripser) (1.16.0)\n"
     ]
    }
   ],
   "source": [
    "!pip install ripser"
   ]
  },
  {
   "cell_type": "code",
   "execution_count": 26,
   "metadata": {},
   "outputs": [],
   "source": [
    "import numpy as np\n",
    "import scipy as sp\n",
    "import matplotlib.pyplot as plt\n",
    "from matplotlib import cm\n",
    "import pandas as pd\n",
    "\n",
    "import networkx as nx\n",
    "from networkx.algorithms import bipartite\n",
    "import matplotlib.colors as colors\n",
    "\n",
    "import ripser\n",
    "import persim\n",
    "\n",
    "from scipy.sparse import csr_matrix\n",
    "import torch\n",
    "import os"
   ]
  },
  {
   "cell_type": "code",
   "execution_count": 8,
   "metadata": {},
   "outputs": [],
   "source": [
    "data = pd.read_csv('Papers/Connectome of an insect brain/Supplementary-Data-S1/all-all_connectivity_matrix.csv')\n",
    "data = data.set_index('Unnamed: 0')\n",
    "data.columns = data.columns.astype(int)\n"
   ]
  },
  {
   "cell_type": "code",
   "execution_count": 9,
   "metadata": {},
   "outputs": [
    {
     "data": {
      "text/html": [
       "<pre style=\"white-space:pre;overflow-x:auto;line-height:normal;font-family:Menlo,'DejaVu Sans Mono',consolas,'Courier New',monospace\">Graph with <span style=\"color: #008080; text-decoration-color: #008080; font-weight: bold\">2952</span> nodes and <span style=\"color: #008080; text-decoration-color: #008080; font-weight: bold\">96527</span> edges\n",
       "</pre>\n"
      ],
      "text/plain": [
       "Graph with \u001b[1;36m2952\u001b[0m nodes and \u001b[1;36m96527\u001b[0m edges\n"
      ]
     },
     "metadata": {},
     "output_type": "display_data"
    }
   ],
   "source": [
    "\n",
    "# Assuming the dataframe is stored in the variable 'data'\n",
    "# Remove the first column if it contains row indices\n",
    "if 'Unnamed: 0' in data.columns:\n",
    "    data = data.drop(columns=['Unnamed: 0'])\n",
    "\n",
    "# Convert the dataframe to a dictionary\n",
    "adjacency_dict = data.to_dict()\n",
    "\n",
    "# Create an empty graph\n",
    "G = nx.Graph()\n",
    "\n",
    "# Add nodes to the graph\n",
    "G.add_nodes_from(adjacency_dict.keys())\n",
    "\n",
    "# Add edges to the graph\n",
    "for source_node, target_nodes in adjacency_dict.items():\n",
    "    for target_node, weight in target_nodes.items():\n",
    "        if weight == 0:\n",
    "            continue\n",
    "        G.add_edge(source_node, target_node, weight=weight)\n",
    "\n",
    "# Print the graph\n",
    "print(G)\n"
   ]
  },
  {
   "cell_type": "code",
   "execution_count": 10,
   "metadata": {},
   "outputs": [],
   "source": [
    "def weight_hist(G):\n",
    "    G_weights = [e[2]['weight'] for e in G.edges.data()]\n",
    "\n",
    "    fig, ax = plt.subplots(figsize=(10, 7))  # Create a single plot\n",
    "\n",
    "    # plot weight histogram\n",
    "    ax.hist(G_weights, bins=100, facecolor='g', alpha=0.75)\n",
    "    ax.set_title(\"Weight Histograms\")\n",
    "    ax.set_xlabel(\"Weight\")\n",
    "    ax.set_ylabel(\"Counts\")\n",
    "    ax.grid()\n",
    "\n",
    "    plt.show()"
   ]
  },
  {
   "cell_type": "markdown",
   "metadata": {},
   "source": [
    "Plot graph and weight histogram"
   ]
  },
  {
   "cell_type": "code",
   "execution_count": 11,
   "metadata": {},
   "outputs": [
    {
     "data": {
      "text/plain": [
       "46597"
      ]
     },
     "execution_count": 11,
     "metadata": {},
     "output_type": "execute_result"
    }
   ],
   "source": [
    "# edge weights\n",
    "# weight_hist(G)\n",
    "len([e[2]['weight'] for e in G.edges.data() if e[2]['weight'] <= 1])"
   ]
  },
  {
   "cell_type": "code",
   "execution_count": 12,
   "metadata": {},
   "outputs": [],
   "source": [
    "nn_weights = torch.load('./data/train_10k_test_1.67k_layer_1.pt')\n",
    "nn_adj = nn_weights.numpy()\n",
    "\n",
    "# filter the weights, setting everything above 10 to zero\n",
    "# nn_adj = ( (nn_adj * (nn_adj < 10)) * (nn_adj >= 1)) * 100\n",
    "# nn_adj *= (nn_adj < 10)\n",
    "nn_adj *= 50\n",
    "nn_adj *= (nn_adj >= 1)\n",
    "          \n",
    "\n",
    "G_prime = nx.from_numpy_array(nn_adj)\n",
    "# weight_hist(G_prime)"
   ]
  },
  {
   "cell_type": "code",
   "execution_count": 13,
   "metadata": {},
   "outputs": [],
   "source": [
    "def diagram_sizes(dgms):\n",
    "    return \", \".join([f\"|$H_{i}$|={len(d)}\" for i, d in enumerate(dgms)])\n",
    "\n",
    "def persistence_diagram(G, plot=True):\n",
    "    adj = nx.adjacency_matrix(G)\n",
    "    A = csr_matrix(adj)\n",
    "    dgms = ripser.ripser(A, distance_matrix=True, maxdim=1)['dgms']\n",
    "    if plot:\n",
    "        persim.plot_diagrams(\n",
    "            dgms, show=True,\n",
    "            title=f\"PD of SF graph\\n{diagram_sizes(dgms)}\"\n",
    "        )\n",
    "    return dgms"
   ]
  },
  {
   "cell_type": "code",
   "execution_count": 14,
   "metadata": {},
   "outputs": [
    {
     "data": {
      "image/png": "[encoded data removed]",
      "text/plain": [
       "<Figure size 640x480 with 1 Axes>"
      ]
     },
     "metadata": {},
     "output_type": "display_data"
    }
   ],
   "source": [
    "ctm_persistance = persistence_diagram(G)"
   ]
  },
  {
   "cell_type": "code",
   "execution_count": 15,
   "metadata": {},
   "outputs": [
    {
     "data": {
      "image/png": "[encoded data removed]",
      "text/plain": [
       "<Figure size 640x480 with 1 Axes>"
      ]
     },
     "metadata": {},
     "output_type": "display_data"
    }
   ],
   "source": [
    "snn_persistance = persistence_diagram(G_prime)"
   ]
  },
  {
   "cell_type": "markdown",
   "metadata": {},
   "source": [
    "# Distance Time!"
   ]
  },
  {
   "cell_type": "code",
   "execution_count": 19,
   "metadata": {},
   "outputs": [],
   "source": [
    "# uh for some reason, the ctm_persistance has inf values?\n",
    "# so like. remove all those values.\n",
    "ctm_persistance = [dgm[~np.isinf(dgm[:, 1])] for dgm in ctm_persistance]\n"
   ]
  },
  {
   "cell_type": "code",
   "execution_count": 20,
   "metadata": {},
   "outputs": [
    {
     "data": {
      "text/plain": [
       "4862.9768607562955"
      ]
     },
     "execution_count": 20,
     "metadata": {},
     "output_type": "execute_result"
    }
   ],
   "source": [
    "persim.sliced_wasserstein(ctm_persistance[1], snn_persistance[1])"
   ]
  },
  {
   "cell_type": "markdown",
   "metadata": {},
   "source": []
  },
  {
   "cell_type": "code",
   "execution_count": null,
   "metadata": {},
   "outputs": [],
   "source": [
    "distance_bottleneck = persim.bottleneck(ctm_persistance[1], snn_persistance[1], matching=False)\n",
    "distance_bottleneck"
   ]
  },
  {
   "cell_type": "code",
   "execution_count": null,
   "metadata": {},
   "outputs": [],
   "source": [
    "persim.heat(ctm_persistance[1], snn_persistance[1])"
   ]
  },
  {
   "cell_type": "code",
   "execution_count": null,
   "metadata": {},
   "outputs": [],
   "source": [
    "!pip install rich\n",
    "from rich import print, inspect\n",
    "from rich.progress import track"
   ]
  },
  {
   "cell_type": "code",
   "execution_count": 27,
   "metadata": {},
   "outputs": [],
   "source": [
    "# load all the training steps\n",
    "# THIS CODE IS NOW INVALID\n",
    "PATH = \"./data/steps/\"\n",
    "\n",
    "def load_snn_training_step(path):\n",
    "    nn_weights = torch.load(path)\n",
    "    nn_adj = nn_weights.numpy()\n",
    "    nn_adj *= 50\n",
    "    # nn_adj *= (nn_adj >= 1)\n",
    "    return nx.from_numpy_array(nn_adj)\n",
    "\n",
    "steps = [load_snn_training_step(PATH + x) for x in os.listdir(PATH)]"
   ]
  },
  {
   "cell_type": "code",
   "execution_count": null,
   "metadata": {},
   "outputs": [],
   "source": [
    "persists = []\n",
    "for step in track(steps):\n",
    "    persists.append(persistence_diagram(step))"
   ]
  },
  {
   "cell_type": "code",
   "execution_count": 30,
   "metadata": {},
   "outputs": [
    {
     "ename": "KeyboardInterrupt",
     "evalue": "",
     "output_type": "error",
     "traceback": [
      "\u001b[0;31m---------------------------------------------------------------------------\u001b[0m",
      "\u001b[0;31mKeyboardInterrupt\u001b[0m                         Traceback (most recent call last)",
      "Cell \u001b[0;32mIn[30], line 6\u001b[0m\n\u001b[1;32m      1\u001b[0m \u001b[38;5;66;03m# get the distance between the first step and all the other steps,\u001b[39;00m\n\u001b[1;32m      2\u001b[0m \u001b[38;5;66;03m# using sliced wassestein\u001b[39;00m\n\u001b[0;32m----> 6\u001b[0m distances \u001b[38;5;241m=\u001b[39m \u001b[43m[\u001b[49m\u001b[43mpersim\u001b[49m\u001b[38;5;241;43m.\u001b[39;49m\u001b[43mbottleneck\u001b[49m\u001b[43m(\u001b[49m\u001b[43mctm_persistance\u001b[49m\u001b[43m[\u001b[49m\u001b[38;5;241;43m1\u001b[39;49m\u001b[43m]\u001b[49m\u001b[43m,\u001b[49m\u001b[43m \u001b[49m\u001b[43mp\u001b[49m\u001b[43m[\u001b[49m\u001b[38;5;241;43m1\u001b[39;49m\u001b[43m]\u001b[49m\u001b[43m,\u001b[49m\u001b[43m \u001b[49m\u001b[43mmatching\u001b[49m\u001b[38;5;241;43m=\u001b[39;49m\u001b[38;5;28;43;01mFalse\u001b[39;49;00m\u001b[43m)\u001b[49m\u001b[43m \u001b[49m\u001b[38;5;28;43;01mfor\u001b[39;49;00m\u001b[43m \u001b[49m\u001b[43mp\u001b[49m\u001b[43m \u001b[49m\u001b[38;5;129;43;01min\u001b[39;49;00m\u001b[43m \u001b[49m\u001b[43mpersists\u001b[49m\u001b[43m]\u001b[49m\n\u001b[1;32m      7\u001b[0m distances\n",
      "Cell \u001b[0;32mIn[30], line 6\u001b[0m, in \u001b[0;36m<listcomp>\u001b[0;34m(.0)\u001b[0m\n\u001b[1;32m      1\u001b[0m \u001b[38;5;66;03m# get the distance between the first step and all the other steps,\u001b[39;00m\n\u001b[1;32m      2\u001b[0m \u001b[38;5;66;03m# using sliced wassestein\u001b[39;00m\n\u001b[0;32m----> 6\u001b[0m distances \u001b[38;5;241m=\u001b[39m [\u001b[43mpersim\u001b[49m\u001b[38;5;241;43m.\u001b[39;49m\u001b[43mbottleneck\u001b[49m\u001b[43m(\u001b[49m\u001b[43mctm_persistance\u001b[49m\u001b[43m[\u001b[49m\u001b[38;5;241;43m1\u001b[39;49m\u001b[43m]\u001b[49m\u001b[43m,\u001b[49m\u001b[43m \u001b[49m\u001b[43mp\u001b[49m\u001b[43m[\u001b[49m\u001b[38;5;241;43m1\u001b[39;49m\u001b[43m]\u001b[49m\u001b[43m,\u001b[49m\u001b[43m \u001b[49m\u001b[43mmatching\u001b[49m\u001b[38;5;241;43m=\u001b[39;49m\u001b[38;5;28;43;01mFalse\u001b[39;49;00m\u001b[43m)\u001b[49m \u001b[38;5;28;01mfor\u001b[39;00m p \u001b[38;5;129;01min\u001b[39;00m persists]\n\u001b[1;32m      7\u001b[0m distances\n",
      "File \u001b[0;32m~/miniconda3/lib/python3.11/site-packages/persim/bottleneck.py:111\u001b[0m, in \u001b[0;36mbottleneck\u001b[0;34m(dgm1, dgm2, matching)\u001b[0m\n\u001b[1;32m    109\u001b[0m graph \u001b[38;5;241m=\u001b[39m {}\n\u001b[1;32m    110\u001b[0m \u001b[38;5;28;01mfor\u001b[39;00m i \u001b[38;5;129;01min\u001b[39;00m \u001b[38;5;28mrange\u001b[39m(D\u001b[38;5;241m.\u001b[39mshape[\u001b[38;5;241m0\u001b[39m]):\n\u001b[0;32m--> 111\u001b[0m     graph[\u001b[38;5;124m\"\u001b[39m\u001b[38;5;132;01m{}\u001b[39;00m\u001b[38;5;124m\"\u001b[39m\u001b[38;5;241m.\u001b[39mformat(i)] \u001b[38;5;241m=\u001b[39m \u001b[43m{\u001b[49m\u001b[43mj\u001b[49m\u001b[43m \u001b[49m\u001b[38;5;28;43;01mfor\u001b[39;49;00m\u001b[43m \u001b[49m\u001b[43mj\u001b[49m\u001b[43m \u001b[49m\u001b[38;5;129;43;01min\u001b[39;49;00m\u001b[43m \u001b[49m\u001b[38;5;28;43mrange\u001b[39;49m\u001b[43m(\u001b[49m\u001b[43mD\u001b[49m\u001b[38;5;241;43m.\u001b[39;49m\u001b[43mshape\u001b[49m\u001b[43m[\u001b[49m\u001b[38;5;241;43m1\u001b[39;49m\u001b[43m]\u001b[49m\u001b[43m)\u001b[49m\u001b[43m \u001b[49m\u001b[38;5;28;43;01mif\u001b[39;49;00m\u001b[43m \u001b[49m\u001b[43mD\u001b[49m\u001b[43m[\u001b[49m\u001b[43mi\u001b[49m\u001b[43m,\u001b[49m\u001b[43m \u001b[49m\u001b[43mj\u001b[49m\u001b[43m]\u001b[49m\u001b[43m \u001b[49m\u001b[38;5;241;43m<\u001b[39;49m\u001b[38;5;241;43m=\u001b[39;49m\u001b[43m \u001b[49m\u001b[43md\u001b[49m\u001b[43m}\u001b[49m\n\u001b[1;32m    112\u001b[0m res \u001b[38;5;241m=\u001b[39m HopcroftKarp(graph)\u001b[38;5;241m.\u001b[39mmaximum_matching()\n\u001b[1;32m    113\u001b[0m \u001b[38;5;28;01mif\u001b[39;00m \u001b[38;5;28mlen\u001b[39m(res) \u001b[38;5;241m==\u001b[39m \u001b[38;5;241m2\u001b[39m \u001b[38;5;241m*\u001b[39m D\u001b[38;5;241m.\u001b[39mshape[\u001b[38;5;241m0\u001b[39m] \u001b[38;5;129;01mand\u001b[39;00m d \u001b[38;5;241m<\u001b[39m\u001b[38;5;241m=\u001b[39m bdist:\n",
      "File \u001b[0;32m~/miniconda3/lib/python3.11/site-packages/persim/bottleneck.py:111\u001b[0m, in \u001b[0;36m<setcomp>\u001b[0;34m(.0)\u001b[0m\n\u001b[1;32m    109\u001b[0m graph \u001b[38;5;241m=\u001b[39m {}\n\u001b[1;32m    110\u001b[0m \u001b[38;5;28;01mfor\u001b[39;00m i \u001b[38;5;129;01min\u001b[39;00m \u001b[38;5;28mrange\u001b[39m(D\u001b[38;5;241m.\u001b[39mshape[\u001b[38;5;241m0\u001b[39m]):\n\u001b[0;32m--> 111\u001b[0m     graph[\u001b[38;5;124m\"\u001b[39m\u001b[38;5;132;01m{}\u001b[39;00m\u001b[38;5;124m\"\u001b[39m\u001b[38;5;241m.\u001b[39mformat(i)] \u001b[38;5;241m=\u001b[39m {j \u001b[38;5;28;01mfor\u001b[39;00m j \u001b[38;5;129;01min\u001b[39;00m \u001b[38;5;28mrange\u001b[39m(D\u001b[38;5;241m.\u001b[39mshape[\u001b[38;5;241m1\u001b[39m]) \u001b[38;5;28;01mif\u001b[39;00m D[i, j] \u001b[38;5;241m<\u001b[39m\u001b[38;5;241m=\u001b[39m d}\n\u001b[1;32m    112\u001b[0m res \u001b[38;5;241m=\u001b[39m HopcroftKarp(graph)\u001b[38;5;241m.\u001b[39mmaximum_matching()\n\u001b[1;32m    113\u001b[0m \u001b[38;5;28;01mif\u001b[39;00m \u001b[38;5;28mlen\u001b[39m(res) \u001b[38;5;241m==\u001b[39m \u001b[38;5;241m2\u001b[39m \u001b[38;5;241m*\u001b[39m D\u001b[38;5;241m.\u001b[39mshape[\u001b[38;5;241m0\u001b[39m] \u001b[38;5;129;01mand\u001b[39;00m d \u001b[38;5;241m<\u001b[39m\u001b[38;5;241m=\u001b[39m bdist:\n",
      "\u001b[0;31mKeyboardInterrupt\u001b[0m: "
     ]
    }
   ],
   "source": [
    "# get the distance between the first step and all the other steps,\n",
    "# using sliced wassestein\n",
    "\n",
    "\n",
    "\n",
    "distances = [persim.bottleneck(ctm_persistance[1], p[1], matching=False) for p in persists]\n",
    "distances\n",
    "\n",
    "\n"
   ]
  },
  {
   "cell_type": "markdown",
   "metadata": {},
   "source": [
    "### -> Switch to new data format"
   ]
  },
  {
   "cell_type": "code",
   "execution_count": 39,
   "metadata": {},
   "outputs": [
    {
     "data": {
      "text/html": [
       "<pre style=\"white-space:pre;overflow-x:auto;line-height:normal;font-family:Menlo,'DejaVu Sans Mono',consolas,'Courier New',monospace\"><span style=\"color: #008080; text-decoration-color: #008080; font-weight: bold\">313</span>\n",
       "</pre>\n"
      ],
      "text/plain": [
       "\u001b[1;36m313\u001b[0m\n"
      ]
     },
     "metadata": {},
     "output_type": "display_data"
    }
   ],
   "source": [
    "# load the .pt file with all the training steps\n",
    "PATH = \"/Users/huxley/dataset_storage/snn_tda_mats/adjacency_stack.pt\"\n",
    "all_steps = torch.load(PATH)\n",
    "\n",
    "print(len(all_steps))"
   ]
  },
  {
   "cell_type": "code",
   "execution_count": null,
   "metadata": {},
   "outputs": [],
   "source": [
    "# seperate into a list of adjacency matrices\n",
    "list_steps = [x.numpy() for x in all_steps]\n",
    "\n",
    "persists = []\n",
    "for i in track(range(0, len(list_steps), 10)):\n",
    "    step = list_steps[i]\n",
    "\n",
    "    step *= 50\n",
    "    step *= (step >= 1)\n",
    "\n",
    "    step = nx.from_numpy_array(step)\n",
    "\n",
    "    persists.append(persistence_diagram(step, plot=False))\n",
    "    print(i)"
   ]
  },
  {
   "cell_type": "code",
   "execution_count": null,
   "metadata": {},
   "outputs": [],
   "source": [
    "persim.plot_diagrams(persists[0], show=True)"
   ]
  },
  {
   "cell_type": "code",
   "execution_count": 50,
   "metadata": {},
   "outputs": [
    {
     "name": "stderr",
     "output_type": "stream",
     "text": [
      "/Users/huxley/miniconda3/lib/python3.11/site-packages/scipy/spatial/distance.py:984: RuntimeWarning: invalid value encountered in subtract\n",
      "  l1_diff = abs(u - v)\n"
     ]
    },
    {
     "data": {
      "text/plain": [
       "[0.0,\n",
       " 175068285.46627188,\n",
       " 175074190.2121664,\n",
       " 175075061.03118348,\n",
       " 175072010.37508565,\n",
       " 175071443.61241528,\n",
       " 175074551.2115229,\n",
       " 175071917.16665968,\n",
       " 175075916.30021644,\n",
       " 175081016.1543585,\n",
       " 175090719.97723803,\n",
       " 175103822.4433954,\n",
       " 175114469.25773555,\n",
       " 175134601.99625745,\n",
       " nan,\n",
       " nan,\n",
       " nan,\n",
       " nan,\n",
       " nan,\n",
       " nan,\n",
       " nan,\n",
       " nan,\n",
       " nan,\n",
       " nan,\n",
       " nan,\n",
       " nan,\n",
       " nan,\n",
       " nan,\n",
       " nan,\n",
       " nan,\n",
       " nan,\n",
       " nan]"
      ]
     },
     "execution_count": 50,
     "metadata": {},
     "output_type": "execute_result"
    }
   ],
   "source": [
    "# compare the first persist with all the others, using slices wasserstein\n",
    "distances = [persim.sliced_wasserstein(persists[0][1], p[1]) for p in persists]\n",
    "distances"
   ]
  },
  {
   "cell_type": "code",
   "execution_count": null,
   "metadata": {},
   "outputs": [],
   "source": [
    "# compare the persists with the connectome\n",
    "distances = [persim.sliced_wasserstein(ctm_persistance[1], p[1]) for p in persists]"
   ]
  },
  {
   "cell_type": "markdown",
   "metadata": {},
   "source": [
    "***"
   ]
  },
  {
   "cell_type": "markdown",
   "metadata": {},
   "source": [
    "***\n"
   ]
  },
  {
   "cell_type": "code",
   "execution_count": 33,
   "metadata": {},
   "outputs": [
    {
     "data": {
      "image/png": "[encoded data removed]",
      "text/plain": [
       "<Figure size 640x480 with 1 Axes>"
      ]
     },
     "metadata": {},
     "output_type": "display_data"
    }
   ],
   "source": [
    "n = nn_adj.shape[0]\n",
    "from scipy.sparse import random\n",
    "\n",
    "# Generate a random sparse 3x3 matrix\n",
    "matrix = random(n, n, density=0.01).toarray()\n",
    "G_random = nx.from_numpy_array(matrix)\n",
    "persistence_diagram(G_random)\n"
   ]
  },
  {
   "cell_type": "markdown",
   "metadata": {},
   "source": [
    "Complexity analysis:\n",
    "200 - 0.9 s\n",
    "300 - 2.9 s\n",
    "400 - 7.3 s\n",
    "500 - 24.7 s\n",
    "600 - 98.1 s"
   ]
  },
  {
   "cell_type": "code",
   "execution_count": 9,
   "metadata": {},
   "outputs": [
    {
     "data": {
      "image/png": "[encoded data removed]",
      "text/plain": [
       "<Figure size 640x480 with 1 Axes>"
      ]
     },
     "metadata": {},
     "output_type": "display_data"
    }
   ],
   "source": [
    "import numpy as np\n",
    "from scipy.optimize import curve_fit\n",
    "import matplotlib.pyplot as plt\n",
    "\n",
    "# Define the power law function\n",
    "def power_law(x, a, b):\n",
    "    return a * np.power(x, b)\n",
    "\n",
    "# Define the data points\n",
    "x = np.array([200, 300, 400, 500, 600])  # x values\n",
    "y = np.array([0.9, 2.9, 7.4, 24.7, 98.1])  # y values\n",
    "\n",
    "# Fit the power law function to the data points\n",
    "params, _ = curve_fit(power_law, x, y, p0 = [1, 1], maxfev=10000)\n",
    "\n",
    "# Extract the fitted parameters\n",
    "a_fit, b_fit = params\n",
    "\n",
    "# Generate the fitted curve\n",
    "x_fit = np.linspace(min(x), max(x), 100)\n",
    "y_fit = power_law(x_fit, a_fit, b_fit)\n",
    "\n",
    "# Plot the data points and the fitted curve\n",
    "plt.scatter(x, y, label='Data Points')\n",
    "plt.plot(x_fit, y_fit, label='Fitted Power Law')\n",
    "plt.xlabel('x')\n",
    "plt.ylabel('y')\n",
    "plt.legend()\n",
    "plt.show()\n"
   ]
  },
  {
   "cell_type": "code",
   "execution_count": 10,
   "metadata": {},
   "outputs": [
    {
     "name": "stdout",
     "output_type": "stream",
     "text": [
      "[5.50509522e-19 7.28904409e+00]\n"
     ]
    }
   ],
   "source": [
    "print(params)"
   ]
  },
  {
   "cell_type": "code",
   "execution_count": 11,
   "metadata": {},
   "outputs": [
    {
     "data": {
      "text/html": [
       "<div>\n",
       "<style scoped>\n",
       "    .dataframe tbody tr th:only-of-type {\n",
       "        vertical-align: middle;\n",
       "    }\n",
       "\n",
       "    .dataframe tbody tr th {\n",
       "        vertical-align: top;\n",
       "    }\n",
       "\n",
       "    .dataframe thead th {\n",
       "        text-align: right;\n",
       "    }\n",
       "</style>\n",
       "<table border=\"1\" class=\"dataframe\">\n",
       "  <thead>\n",
       "    <tr style=\"text-align: right;\">\n",
       "      <th></th>\n",
       "      <th>Unnamed: 0</th>\n",
       "      <th>29</th>\n",
       "      <th>8419602</th>\n",
       "      <th>37365</th>\n",
       "      <th>2200028</th>\n",
       "      <th>40152</th>\n",
       "      <th>1414206</th>\n",
       "      <th>15997645</th>\n",
       "      <th>15998100</th>\n",
       "      <th>15997692</th>\n",
       "      <th>...</th>\n",
       "      <th>17223685</th>\n",
       "      <th>17304269</th>\n",
       "      <th>17355892</th>\n",
       "      <th>17543765</th>\n",
       "      <th>17639824</th>\n",
       "      <th>17732291</th>\n",
       "      <th>17736641</th>\n",
       "      <th>18123575</th>\n",
       "      <th>20911955</th>\n",
       "      <th>21591317</th>\n",
       "    </tr>\n",
       "  </thead>\n",
       "  <tbody>\n",
       "    <tr>\n",
       "      <th>0</th>\n",
       "      <td>29</td>\n",
       "      <td>0.0</td>\n",
       "      <td>9.0</td>\n",
       "      <td>0.0</td>\n",
       "      <td>0.0</td>\n",
       "      <td>0.0</td>\n",
       "      <td>0.0</td>\n",
       "      <td>0.0</td>\n",
       "      <td>0.0</td>\n",
       "      <td>0.0</td>\n",
       "      <td>...</td>\n",
       "      <td>0</td>\n",
       "      <td>0</td>\n",
       "      <td>0</td>\n",
       "      <td>0</td>\n",
       "      <td>0</td>\n",
       "      <td>0</td>\n",
       "      <td>0</td>\n",
       "      <td>0</td>\n",
       "      <td>0</td>\n",
       "      <td>0</td>\n",
       "    </tr>\n",
       "    <tr>\n",
       "      <th>1</th>\n",
       "      <td>8419602</td>\n",
       "      <td>6.0</td>\n",
       "      <td>0.0</td>\n",
       "      <td>0.0</td>\n",
       "      <td>0.0</td>\n",
       "      <td>0.0</td>\n",
       "      <td>0.0</td>\n",
       "      <td>0.0</td>\n",
       "      <td>0.0</td>\n",
       "      <td>0.0</td>\n",
       "      <td>...</td>\n",
       "      <td>0</td>\n",
       "      <td>0</td>\n",
       "      <td>0</td>\n",
       "      <td>0</td>\n",
       "      <td>0</td>\n",
       "      <td>0</td>\n",
       "      <td>0</td>\n",
       "      <td>0</td>\n",
       "      <td>0</td>\n",
       "      <td>0</td>\n",
       "    </tr>\n",
       "    <tr>\n",
       "      <th>2</th>\n",
       "      <td>37365</td>\n",
       "      <td>0.0</td>\n",
       "      <td>0.0</td>\n",
       "      <td>0.0</td>\n",
       "      <td>1.0</td>\n",
       "      <td>0.0</td>\n",
       "      <td>0.0</td>\n",
       "      <td>0.0</td>\n",
       "      <td>0.0</td>\n",
       "      <td>0.0</td>\n",
       "      <td>...</td>\n",
       "      <td>0</td>\n",
       "      <td>0</td>\n",
       "      <td>0</td>\n",
       "      <td>0</td>\n",
       "      <td>0</td>\n",
       "      <td>0</td>\n",
       "      <td>0</td>\n",
       "      <td>0</td>\n",
       "      <td>0</td>\n",
       "      <td>0</td>\n",
       "    </tr>\n",
       "    <tr>\n",
       "      <th>3</th>\n",
       "      <td>2200028</td>\n",
       "      <td>0.0</td>\n",
       "      <td>0.0</td>\n",
       "      <td>1.0</td>\n",
       "      <td>0.0</td>\n",
       "      <td>0.0</td>\n",
       "      <td>0.0</td>\n",
       "      <td>0.0</td>\n",
       "      <td>0.0</td>\n",
       "      <td>0.0</td>\n",
       "      <td>...</td>\n",
       "      <td>0</td>\n",
       "      <td>0</td>\n",
       "      <td>0</td>\n",
       "      <td>0</td>\n",
       "      <td>0</td>\n",
       "      <td>0</td>\n",
       "      <td>0</td>\n",
       "      <td>0</td>\n",
       "      <td>0</td>\n",
       "      <td>0</td>\n",
       "    </tr>\n",
       "    <tr>\n",
       "      <th>4</th>\n",
       "      <td>40152</td>\n",
       "      <td>0.0</td>\n",
       "      <td>0.0</td>\n",
       "      <td>0.0</td>\n",
       "      <td>0.0</td>\n",
       "      <td>0.0</td>\n",
       "      <td>1.0</td>\n",
       "      <td>0.0</td>\n",
       "      <td>0.0</td>\n",
       "      <td>0.0</td>\n",
       "      <td>...</td>\n",
       "      <td>0</td>\n",
       "      <td>0</td>\n",
       "      <td>0</td>\n",
       "      <td>0</td>\n",
       "      <td>0</td>\n",
       "      <td>0</td>\n",
       "      <td>0</td>\n",
       "      <td>0</td>\n",
       "      <td>0</td>\n",
       "      <td>0</td>\n",
       "    </tr>\n",
       "    <tr>\n",
       "      <th>...</th>\n",
       "      <td>...</td>\n",
       "      <td>...</td>\n",
       "      <td>...</td>\n",
       "      <td>...</td>\n",
       "      <td>...</td>\n",
       "      <td>...</td>\n",
       "      <td>...</td>\n",
       "      <td>...</td>\n",
       "      <td>...</td>\n",
       "      <td>...</td>\n",
       "      <td>...</td>\n",
       "      <td>...</td>\n",
       "      <td>...</td>\n",
       "      <td>...</td>\n",
       "      <td>...</td>\n",
       "      <td>...</td>\n",
       "      <td>...</td>\n",
       "      <td>...</td>\n",
       "      <td>...</td>\n",
       "      <td>...</td>\n",
       "      <td>...</td>\n",
       "    </tr>\n",
       "    <tr>\n",
       "      <th>2947</th>\n",
       "      <td>17732291</td>\n",
       "      <td>0.0</td>\n",
       "      <td>0.0</td>\n",
       "      <td>0.0</td>\n",
       "      <td>0.0</td>\n",
       "      <td>0.0</td>\n",
       "      <td>0.0</td>\n",
       "      <td>0.0</td>\n",
       "      <td>0.0</td>\n",
       "      <td>0.0</td>\n",
       "      <td>...</td>\n",
       "      <td>0</td>\n",
       "      <td>0</td>\n",
       "      <td>0</td>\n",
       "      <td>0</td>\n",
       "      <td>0</td>\n",
       "      <td>0</td>\n",
       "      <td>0</td>\n",
       "      <td>0</td>\n",
       "      <td>0</td>\n",
       "      <td>0</td>\n",
       "    </tr>\n",
       "    <tr>\n",
       "      <th>2948</th>\n",
       "      <td>17736641</td>\n",
       "      <td>0.0</td>\n",
       "      <td>0.0</td>\n",
       "      <td>0.0</td>\n",
       "      <td>0.0</td>\n",
       "      <td>0.0</td>\n",
       "      <td>0.0</td>\n",
       "      <td>0.0</td>\n",
       "      <td>0.0</td>\n",
       "      <td>0.0</td>\n",
       "      <td>...</td>\n",
       "      <td>0</td>\n",
       "      <td>0</td>\n",
       "      <td>0</td>\n",
       "      <td>0</td>\n",
       "      <td>0</td>\n",
       "      <td>0</td>\n",
       "      <td>0</td>\n",
       "      <td>0</td>\n",
       "      <td>0</td>\n",
       "      <td>0</td>\n",
       "    </tr>\n",
       "    <tr>\n",
       "      <th>2949</th>\n",
       "      <td>18123575</td>\n",
       "      <td>0.0</td>\n",
       "      <td>0.0</td>\n",
       "      <td>0.0</td>\n",
       "      <td>0.0</td>\n",
       "      <td>0.0</td>\n",
       "      <td>0.0</td>\n",
       "      <td>0.0</td>\n",
       "      <td>0.0</td>\n",
       "      <td>0.0</td>\n",
       "      <td>...</td>\n",
       "      <td>0</td>\n",
       "      <td>0</td>\n",
       "      <td>0</td>\n",
       "      <td>0</td>\n",
       "      <td>0</td>\n",
       "      <td>0</td>\n",
       "      <td>0</td>\n",
       "      <td>0</td>\n",
       "      <td>0</td>\n",
       "      <td>0</td>\n",
       "    </tr>\n",
       "    <tr>\n",
       "      <th>2950</th>\n",
       "      <td>20911955</td>\n",
       "      <td>0.0</td>\n",
       "      <td>0.0</td>\n",
       "      <td>0.0</td>\n",
       "      <td>0.0</td>\n",
       "      <td>0.0</td>\n",
       "      <td>0.0</td>\n",
       "      <td>0.0</td>\n",
       "      <td>0.0</td>\n",
       "      <td>0.0</td>\n",
       "      <td>...</td>\n",
       "      <td>0</td>\n",
       "      <td>0</td>\n",
       "      <td>0</td>\n",
       "      <td>0</td>\n",
       "      <td>0</td>\n",
       "      <td>0</td>\n",
       "      <td>0</td>\n",
       "      <td>0</td>\n",
       "      <td>0</td>\n",
       "      <td>0</td>\n",
       "    </tr>\n",
       "    <tr>\n",
       "      <th>2951</th>\n",
       "      <td>21591317</td>\n",
       "      <td>0.0</td>\n",
       "      <td>0.0</td>\n",
       "      <td>0.0</td>\n",
       "      <td>0.0</td>\n",
       "      <td>0.0</td>\n",
       "      <td>0.0</td>\n",
       "      <td>0.0</td>\n",
       "      <td>0.0</td>\n",
       "      <td>0.0</td>\n",
       "      <td>...</td>\n",
       "      <td>0</td>\n",
       "      <td>0</td>\n",
       "      <td>0</td>\n",
       "      <td>0</td>\n",
       "      <td>0</td>\n",
       "      <td>0</td>\n",
       "      <td>0</td>\n",
       "      <td>0</td>\n",
       "      <td>0</td>\n",
       "      <td>0</td>\n",
       "    </tr>\n",
       "  </tbody>\n",
       "</table>\n",
       "<p>2952 rows × 2953 columns</p>\n",
       "</div>"
      ],
      "text/plain": [
       "      Unnamed: 0   29  8419602  37365  2200028  40152  1414206  15997645  \\\n",
       "0             29  0.0      9.0    0.0      0.0    0.0      0.0       0.0   \n",
       "1        8419602  6.0      0.0    0.0      0.0    0.0      0.0       0.0   \n",
       "2          37365  0.0      0.0    0.0      1.0    0.0      0.0       0.0   \n",
       "3        2200028  0.0      0.0    1.0      0.0    0.0      0.0       0.0   \n",
       "4          40152  0.0      0.0    0.0      0.0    0.0      1.0       0.0   \n",
       "...          ...  ...      ...    ...      ...    ...      ...       ...   \n",
       "2947    17732291  0.0      0.0    0.0      0.0    0.0      0.0       0.0   \n",
       "2948    17736641  0.0      0.0    0.0      0.0    0.0      0.0       0.0   \n",
       "2949    18123575  0.0      0.0    0.0      0.0    0.0      0.0       0.0   \n",
       "2950    20911955  0.0      0.0    0.0      0.0    0.0      0.0       0.0   \n",
       "2951    21591317  0.0      0.0    0.0      0.0    0.0      0.0       0.0   \n",
       "\n",
       "      15998100  15997692  ...  17223685  17304269  17355892  17543765  \\\n",
       "0          0.0       0.0  ...         0         0         0         0   \n",
       "1          0.0       0.0  ...         0         0         0         0   \n",
       "2          0.0       0.0  ...         0         0         0         0   \n",
       "3          0.0       0.0  ...         0         0         0         0   \n",
       "4          0.0       0.0  ...         0         0         0         0   \n",
       "...        ...       ...  ...       ...       ...       ...       ...   \n",
       "2947       0.0       0.0  ...         0         0         0         0   \n",
       "2948       0.0       0.0  ...         0         0         0         0   \n",
       "2949       0.0       0.0  ...         0         0         0         0   \n",
       "2950       0.0       0.0  ...         0         0         0         0   \n",
       "2951       0.0       0.0  ...         0         0         0         0   \n",
       "\n",
       "      17639824  17732291  17736641  18123575  20911955  21591317  \n",
       "0            0         0         0         0         0         0  \n",
       "1            0         0         0         0         0         0  \n",
       "2            0         0         0         0         0         0  \n",
       "3            0         0         0         0         0         0  \n",
       "4            0         0         0         0         0         0  \n",
       "...        ...       ...       ...       ...       ...       ...  \n",
       "2947         0         0         0         0         0         0  \n",
       "2948         0         0         0         0         0         0  \n",
       "2949         0         0         0         0         0         0  \n",
       "2950         0         0         0         0         0         0  \n",
       "2951         0         0         0         0         0         0  \n",
       "\n",
       "[2952 rows x 2953 columns]"
      ]
     },
     "execution_count": 11,
     "metadata": {},
     "output_type": "execute_result"
    }
   ],
   "source": [
    "df2 = pd.read_csv('Papers/Connectome of an insect brain/Supplementary-Data-S1/aa_connectivity_matrix.csv')\n",
    "df2"
   ]
  },
  {
   "cell_type": "code",
   "execution_count": null,
   "metadata": {},
   "outputs": [],
   "source": []
  }
 ],
 "metadata": {
  "kernelspec": {
   "display_name": "objslam",
   "language": "python",
   "name": "python3"
  },
  "language_info": {
   "codemirror_mode": {
    "name": "ipython",
    "version": 3
   },
   "file_extension": ".py",
   "mimetype": "text/x-python",
   "name": "python",
   "nbconvert_exporter": "python",
   "pygments_lexer": "ipython3",
   "version": "3.11.8"
  }
 },
 "nbformat": 4,
 "nbformat_minor": 2
}
