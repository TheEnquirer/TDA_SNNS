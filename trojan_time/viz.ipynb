{
 "cells": [
  {
   "cell_type": "code",
   "execution_count": 6,
   "id": "a1960690-b0c4-472b-8e7e-e5ba7dd9e6a6",
   "metadata": {},
   "outputs": [
    {
     "data": {
      "application/vnd.jupyter.widget-view+json": {
       "model_id": "e7876b4928b6432592a8606a32142b18",
       "version_major": 2,
       "version_minor": 0
      },
      "text/plain": [
       "Output()"
      ]
     },
     "metadata": {},
     "output_type": "display_data"
    },
    {
     "data": {
      "text/html": [
       "<pre style=\"white-space:pre;overflow-x:auto;line-height:normal;font-family:Menlo,'DejaVu Sans Mono',consolas,'Courier New',monospace\"></pre>\n"
      ],
      "text/plain": []
     },
     "metadata": {},
     "output_type": "display_data"
    },
    {
     "data": {
      "text/html": [
       "<pre style=\"white-space:pre;overflow-x:auto;line-height:normal;font-family:Menlo,'DejaVu Sans Mono',consolas,'Courier New',monospace\">\n",
       "</pre>\n"
      ],
      "text/plain": [
       "\n"
      ]
     },
     "metadata": {},
     "output_type": "display_data"
    },
    {
     "name": "stderr",
     "output_type": "stream",
     "text": [
      "  \u001b[32mINFO    \u001b[0m | \u001b[32mloaded 622 models in 0.78 seconds\u001b[0m\n",
      "  \u001b[32mINFO    \u001b[0m | \u001b[32mloaded 622 models in 0.78 seconds\u001b[0m\n",
      "INFO:pythonConfig:loaded 622 models in 0.78 seconds\n"
     ]
    },
    {
     "data": {
      "text/html": [
       "<pre style=\"white-space:pre;overflow-x:auto;line-height:normal;font-family:Menlo,'DejaVu Sans Mono',consolas,'Courier New',monospace\"><span style=\"color: #008080; text-decoration-color: #008080; font-weight: bold\">234</span> <span style=\"color: #008080; text-decoration-color: #008080; font-weight: bold\">128</span>\n",
       "</pre>\n"
      ],
      "text/plain": [
       "\u001b[1;36m234\u001b[0m \u001b[1;36m128\u001b[0m\n"
      ]
     },
     "metadata": {},
     "output_type": "display_data"
    },
    {
     "data": {
      "text/html": [
       "<pre style=\"white-space:pre;overflow-x:auto;line-height:normal;font-family:Menlo,'DejaVu Sans Mono',consolas,'Courier New',monospace\"><span style=\"color: #008080; text-decoration-color: #008080; font-weight: bold\">256</span> \n",
       "\n",
       "\n",
       "\n",
       "</pre>\n"
      ],
      "text/plain": [
       "\u001b[1;36m256\u001b[0m \n",
       "\n",
       "\n",
       "\n"
      ]
     },
     "metadata": {},
     "output_type": "display_data"
    }
   ],
   "source": [
    "import os\n",
    "from os.path import join\n",
    "import random\n",
    "import numpy as np\n",
    "from rich import print, inspect\n",
    "from rich.progress import track\n",
    "import torch\n",
    "import random\n",
    "import logging\n",
    "# logging.basicConfig(level=logging.INFO)\n",
    "# logging.getLogger('hyperopt').setLevel(logging.WARNING)\n",
    "from colorlog import ColoredFormatter\n",
    "import time\n",
    "from typing import List, Dict, Any\n",
    "from pdb import set_trace as bp\n",
    "import sys\n",
    "sys.path.append(\"./TopoTrojDetection/\")\n",
    "import xgboost as xgb\n",
    "from sklearn import preprocessing\n",
    "from sklearn.metrics import roc_auc_score\n",
    "from matplotlib import pyplot as plt\n",
    "import multiprocessing\n",
    "import ripser\n",
    "import persim\n",
    "from sklearn.metrics.pairwise import pairwise_distances\n",
    "from scipy import sparse\n",
    "\n",
    "from topological_feature_extractor import getGreedyPerm, getApproxSparseDM\n",
    "\n",
    "\n",
    "from competition_model_data import ModelBasePaths, ModelData\n",
    "from classifier_bin import xgb_classifier\n",
    "from competition_classifier import load_all_models, featurize\n",
    "\n",
    "def local_featurize(models: List[ModelData]):\n",
    "\n",
    "    CLASSES = 5 # FIXME don't hardcode this\n",
    "    n_classes = CLASSES\n",
    "    fv_list = [x.fv for x in models]\n",
    "    gt_list = [x.label for x in models]\n",
    "\n",
    "    psf_feature=torch.cat([fv_list[i]['psf_feature_pos'].unsqueeze(0) for i in range(len(fv_list))])\n",
    "    topo_feature = torch.cat([fv_list[i]['topo_feature_pos'].unsqueeze(0) for i in range(len(fv_list))])\n",
    "\n",
    "    topo_feature[np.where(topo_feature==np.Inf)]=1\n",
    "    n, _, nEx, fnW, fnH, nStim, C = psf_feature.shape\n",
    "    psf_feature_dat=psf_feature.reshape(n, 2, -1, nStim, C)\n",
    "    psf_diff_max=(psf_feature_dat.max(dim=3)[0]-psf_feature_dat.min(dim=3)[0]).max(2)[0].view(len(gt_list), -1)\n",
    "    psf_med_max=psf_feature_dat.median(dim=3)[0].max(2)[0].view(len(gt_list), -1)\n",
    "    psf_std_max=psf_feature_dat.std(dim=3).max(2)[0].view(len(gt_list), -1)\n",
    "    psf_topk_max=psf_feature_dat.topk(k=min(3, n_classes), dim=3)[0].mean(2).max(2)[0].view(len(gt_list), -1)\n",
    "    psf_feature_dat=torch.cat([psf_diff_max, psf_med_max, psf_std_max, psf_topk_max], dim=1)\n",
    "\n",
    "    # dat=torch.cat([psf_feature_dat, topo_feature.view(topo_feature.shape[0], -1)], dim=1)\n",
    "\n",
    "    # dat=psf_feature_dat\n",
    "\n",
    "    dat = topo_feature.view(topo_feature.shape[0], -1)\n",
    "\n",
    "    dat=preprocessing.scale(dat)\n",
    "    gt_list=torch.tensor(gt_list)\n",
    "\n",
    "    return {\n",
    "        \"features\": np.array(dat),\n",
    "        \"labels\": np.array(gt_list)\n",
    "    }\n",
    "\n",
    "\n",
    "device = torch.device('mps')\n",
    "\n",
    "# TODO update this to ur device\n",
    "# root = \"/Users/huxley/dataset_storage/snn_tda_mats/LENET_MODELS/competition_dataset\"\n",
    "root = \"/home/jerryhan/Documents/data\"\n",
    "models_dir = join(root, \"all_models\")\n",
    "cache_dir = join(root, \"calculated_features_cache\")\n",
    "\n",
    "models = load_all_models(models_dir, cache_dir)\n",
    "\n",
    "# filter for only resnets\n",
    "models = [x for x in models if x.architecture == \"resnet50\"]\n",
    "# models = [x for x in models if x.architecture != \"resnet50\"]\n",
    "\n",
    "triggered = [x for x in models if x.label == 1]\n",
    "clean = [x for x in models if x.label == 0]\n",
    "\n",
    "print(len(triggered), len(clean))\n",
    "min_len = min(len(triggered), len(clean))\n",
    "triggered = triggered[:min_len]\n",
    "clean = clean[:min_len]\n",
    "models = triggered + clean\n",
    "np.random.shuffle(models)\n",
    "print(len(models), \"\\n\\n\\n\")\n",
    "\n",
    "ft = local_featurize(models)\n",
    "\n",
    "\n",
    "# get all the clean models from the output of local_featurize\n",
    "clean_fts = np.array([ft[\"features\"][i] for i in range(len(models)) if ft[\"labels\"][i] == 0])\n",
    "dirty_fts = np.array([ft[\"features\"][i] for i in range(len(models)) if ft[\"labels\"][i] == 1])"
   ]
  },
  {
   "cell_type": "code",
   "execution_count": 2,
   "id": "87724aa5-fd63-421c-bee5-1bfe8acbe67e",
   "metadata": {},
   "outputs": [
    {
     "data": {
      "text/html": [
       "<pre style=\"white-space:pre;overflow-x:auto;line-height:normal;font-family:Menlo,'DejaVu Sans Mono',consolas,'Courier New',monospace\">\n",
       "        Name: id-<span style=\"color: #008080; text-decoration-color: #008080; font-weight: bold\">00000035</span>\n",
       "        Architecture: resnet50\n",
       "        Label: <span style=\"color: #008080; text-decoration-color: #008080; font-weight: bold\">1</span>\n",
       "        loaded: <span style=\"font-weight: bold\">[</span><span style=\"color: #008000; text-decoration-color: #008000\">'fv'</span><span style=\"font-weight: bold\">]</span>\n",
       "        \n",
       "</pre>\n"
      ],
      "text/plain": [
       "\n",
       "        Name: id-\u001b[1;36m00000035\u001b[0m\n",
       "        Architecture: resnet50\n",
       "        Label: \u001b[1;36m1\u001b[0m\n",
       "        loaded: \u001b[1m[\u001b[0m\u001b[32m'fv'\u001b[0m\u001b[1m]\u001b[0m\n",
       "        \n"
      ]
     },
     "metadata": {},
     "output_type": "display_data"
    }
   ],
   "source": [
    "print(models[1])"
   ]
  },
  {
   "cell_type": "code",
   "execution_count": 6,
   "id": "85f4be8c-e2fb-42ab-b27d-110ee578c84a",
   "metadata": {},
   "outputs": [
    {
     "data": {
      "text/html": [
       "<pre style=\"white-space:pre;overflow-x:auto;line-height:normal;font-family:Menlo,'DejaVu Sans Mono',consolas,'Courier New',monospace\">starting load_PH <span style=\"color: #008080; text-decoration-color: #008080; font-weight: bold\">1</span>\n",
       "</pre>\n"
      ],
      "text/plain": [
       "starting load_PH \u001b[1;36m1\u001b[0m\n"
      ]
     },
     "metadata": {},
     "output_type": "display_data"
    },
    {
     "data": {
      "text/html": [
       "<pre style=\"white-space:pre;overflow-x:auto;line-height:normal;font-family:Menlo,'DejaVu Sans Mono',consolas,'Courier New',monospace\"><span style=\"color: #008080; text-decoration-color: #008080; font-weight: bold\">980</span>\n",
       "</pre>\n"
      ],
      "text/plain": [
       "\u001b[1;36m980\u001b[0m\n"
      ]
     },
     "metadata": {},
     "output_type": "display_data"
    },
    {
     "name": "stderr",
     "output_type": "stream",
     "text": [
      "100%|███████████████████████████████████████████████████████████████████████████████████| 980/980 [00:00<00:00, 5043457.57it/s]\n"
     ]
    },
    {
     "data": {
      "text/html": [
       "<pre style=\"white-space:pre;overflow-x:auto;line-height:normal;font-family:Menlo,'DejaVu Sans Mono',consolas,'Courier New',monospace\">starting load_PH <span style=\"color: #008080; text-decoration-color: #008080; font-weight: bold\">1</span>\n",
       "</pre>\n"
      ],
      "text/plain": [
       "starting load_PH \u001b[1;36m1\u001b[0m\n"
      ]
     },
     "metadata": {},
     "output_type": "display_data"
    },
    {
     "data": {
      "text/html": [
       "<pre style=\"white-space:pre;overflow-x:auto;line-height:normal;font-family:Menlo,'DejaVu Sans Mono',consolas,'Courier New',monospace\"><span style=\"color: #008080; text-decoration-color: #008080; font-weight: bold\">980</span>\n",
       "</pre>\n"
      ],
      "text/plain": [
       "\u001b[1;36m980\u001b[0m\n"
      ]
     },
     "metadata": {},
     "output_type": "display_data"
    },
    {
     "name": "stderr",
     "output_type": "stream",
     "text": [
      "100%|███████████████████████████████████████████████████████████████████████████████████| 980/980 [00:00<00:00, 6107604.64it/s]\n"
     ]
    },
    {
     "data": {
      "text/html": [
       "<pre style=\"white-space:pre;overflow-x:auto;line-height:normal;font-family:Menlo,'DejaVu Sans Mono',consolas,'Courier New',monospace\">starting load_PH <span style=\"color: #008080; text-decoration-color: #008080; font-weight: bold\">1</span>\n",
       "</pre>\n"
      ],
      "text/plain": [
       "starting load_PH \u001b[1;36m1\u001b[0m\n"
      ]
     },
     "metadata": {},
     "output_type": "display_data"
    },
    {
     "data": {
      "text/html": [
       "<pre style=\"white-space:pre;overflow-x:auto;line-height:normal;font-family:Menlo,'DejaVu Sans Mono',consolas,'Courier New',monospace\"><span style=\"color: #008080; text-decoration-color: #008080; font-weight: bold\">980</span>\n",
       "</pre>\n"
      ],
      "text/plain": [
       "\u001b[1;36m980\u001b[0m\n"
      ]
     },
     "metadata": {},
     "output_type": "display_data"
    },
    {
     "name": "stderr",
     "output_type": "stream",
     "text": [
      "100%|███████████████████████████████████████████████████████████████████████████████████| 980/980 [00:00<00:00, 5897299.74it/s]\n"
     ]
    },
    {
     "data": {
      "text/html": [
       "<pre style=\"white-space:pre;overflow-x:auto;line-height:normal;font-family:Menlo,'DejaVu Sans Mono',consolas,'Courier New',monospace\">starting load_PH <span style=\"color: #008080; text-decoration-color: #008080; font-weight: bold\">1</span>\n",
       "</pre>\n"
      ],
      "text/plain": [
       "starting load_PH \u001b[1;36m1\u001b[0m\n"
      ]
     },
     "metadata": {},
     "output_type": "display_data"
    },
    {
     "data": {
      "text/html": [
       "<pre style=\"white-space:pre;overflow-x:auto;line-height:normal;font-family:Menlo,'DejaVu Sans Mono',consolas,'Courier New',monospace\"><span style=\"color: #008080; text-decoration-color: #008080; font-weight: bold\">980</span>\n",
       "</pre>\n"
      ],
      "text/plain": [
       "\u001b[1;36m980\u001b[0m\n"
      ]
     },
     "metadata": {},
     "output_type": "display_data"
    },
    {
     "name": "stderr",
     "output_type": "stream",
     "text": [
      "100%|███████████████████████████████████████████████████████████████████████████████████| 980/980 [00:00<00:00, 6218483.99it/s]\n"
     ]
    },
    {
     "data": {
      "text/html": [
       "<pre style=\"white-space:pre;overflow-x:auto;line-height:normal;font-family:Menlo,'DejaVu Sans Mono',consolas,'Courier New',monospace\">starting load_PH <span style=\"color: #008080; text-decoration-color: #008080; font-weight: bold\">1</span>\n",
       "</pre>\n"
      ],
      "text/plain": [
       "starting load_PH \u001b[1;36m1\u001b[0m\n"
      ]
     },
     "metadata": {},
     "output_type": "display_data"
    },
    {
     "data": {
      "text/html": [
       "<pre style=\"white-space:pre;overflow-x:auto;line-height:normal;font-family:Menlo,'DejaVu Sans Mono',consolas,'Courier New',monospace\"><span style=\"color: #008080; text-decoration-color: #008080; font-weight: bold\">980</span>\n",
       "</pre>\n"
      ],
      "text/plain": [
       "\u001b[1;36m980\u001b[0m\n"
      ]
     },
     "metadata": {},
     "output_type": "display_data"
    },
    {
     "name": "stderr",
     "output_type": "stream",
     "text": [
      "100%|███████████████████████████████████████████████████████████████████████████████████| 980/980 [00:00<00:00, 6382636.52it/s]\n"
     ]
    },
    {
     "data": {
      "text/html": [
       "<pre style=\"white-space:pre;overflow-x:auto;line-height:normal;font-family:Menlo,'DejaVu Sans Mono',consolas,'Courier New',monospace\">starting load_PH <span style=\"color: #008080; text-decoration-color: #008080; font-weight: bold\">1</span>\n",
       "</pre>\n"
      ],
      "text/plain": [
       "starting load_PH \u001b[1;36m1\u001b[0m\n"
      ]
     },
     "metadata": {},
     "output_type": "display_data"
    },
    {
     "data": {
      "text/html": [
       "<pre style=\"white-space:pre;overflow-x:auto;line-height:normal;font-family:Menlo,'DejaVu Sans Mono',consolas,'Courier New',monospace\"><span style=\"color: #008080; text-decoration-color: #008080; font-weight: bold\">980</span>\n",
       "</pre>\n"
      ],
      "text/plain": [
       "\u001b[1;36m980\u001b[0m\n"
      ]
     },
     "metadata": {},
     "output_type": "display_data"
    },
    {
     "name": "stderr",
     "output_type": "stream",
     "text": [
      "100%|███████████████████████████████████████████████████████████████████████████████████| 980/980 [00:00<00:00, 6062563.30it/s]\n"
     ]
    },
    {
     "data": {
      "text/html": [
       "<pre style=\"white-space:pre;overflow-x:auto;line-height:normal;font-family:Menlo,'DejaVu Sans Mono',consolas,'Courier New',monospace\">starting load_PH <span style=\"color: #008080; text-decoration-color: #008080; font-weight: bold\">1</span>\n",
       "</pre>\n"
      ],
      "text/plain": [
       "starting load_PH \u001b[1;36m1\u001b[0m\n"
      ]
     },
     "metadata": {},
     "output_type": "display_data"
    },
    {
     "data": {
      "text/html": [
       "<pre style=\"white-space:pre;overflow-x:auto;line-height:normal;font-family:Menlo,'DejaVu Sans Mono',consolas,'Courier New',monospace\"><span style=\"color: #008080; text-decoration-color: #008080; font-weight: bold\">980</span>\n",
       "</pre>\n"
      ],
      "text/plain": [
       "\u001b[1;36m980\u001b[0m\n"
      ]
     },
     "metadata": {},
     "output_type": "display_data"
    },
    {
     "name": "stderr",
     "output_type": "stream",
     "text": [
      "100%|███████████████████████████████████████████████████████████████████████████████████| 980/980 [00:00<00:00, 6452775.38it/s]\n"
     ]
    },
    {
     "data": {
      "text/html": [
       "<pre style=\"white-space:pre;overflow-x:auto;line-height:normal;font-family:Menlo,'DejaVu Sans Mono',consolas,'Courier New',monospace\">starting load_PH <span style=\"color: #008080; text-decoration-color: #008080; font-weight: bold\">1</span>\n",
       "</pre>\n"
      ],
      "text/plain": [
       "starting load_PH \u001b[1;36m1\u001b[0m\n"
      ]
     },
     "metadata": {},
     "output_type": "display_data"
    },
    {
     "data": {
      "text/html": [
       "<pre style=\"white-space:pre;overflow-x:auto;line-height:normal;font-family:Menlo,'DejaVu Sans Mono',consolas,'Courier New',monospace\"><span style=\"color: #008080; text-decoration-color: #008080; font-weight: bold\">980</span>\n",
       "</pre>\n"
      ],
      "text/plain": [
       "\u001b[1;36m980\u001b[0m\n"
      ]
     },
     "metadata": {},
     "output_type": "display_data"
    },
    {
     "name": "stderr",
     "output_type": "stream",
     "text": [
      "100%|███████████████████████████████████████████████████████████████████████████████████| 980/980 [00:00<00:00, 6412508.46it/s]\n"
     ]
    },
    {
     "data": {
      "text/html": [
       "<pre style=\"white-space:pre;overflow-x:auto;line-height:normal;font-family:Menlo,'DejaVu Sans Mono',consolas,'Courier New',monospace\">starting load_PH <span style=\"color: #008080; text-decoration-color: #008080; font-weight: bold\">1</span>\n",
       "</pre>\n"
      ],
      "text/plain": [
       "starting load_PH \u001b[1;36m1\u001b[0m\n"
      ]
     },
     "metadata": {},
     "output_type": "display_data"
    },
    {
     "data": {
      "text/html": [
       "<pre style=\"white-space:pre;overflow-x:auto;line-height:normal;font-family:Menlo,'DejaVu Sans Mono',consolas,'Courier New',monospace\"><span style=\"color: #008080; text-decoration-color: #008080; font-weight: bold\">980</span>\n",
       "</pre>\n"
      ],
      "text/plain": [
       "\u001b[1;36m980\u001b[0m\n"
      ]
     },
     "metadata": {},
     "output_type": "display_data"
    },
    {
     "name": "stderr",
     "output_type": "stream",
     "text": [
      "100%|███████████████████████████████████████████████████████████████████████████████████| 980/980 [00:00<00:00, 6452775.38it/s]\n"
     ]
    },
    {
     "data": {
      "text/html": [
       "<pre style=\"white-space:pre;overflow-x:auto;line-height:normal;font-family:Menlo,'DejaVu Sans Mono',consolas,'Courier New',monospace\">starting load_PH <span style=\"color: #008080; text-decoration-color: #008080; font-weight: bold\">1</span>\n",
       "</pre>\n"
      ],
      "text/plain": [
       "starting load_PH \u001b[1;36m1\u001b[0m\n"
      ]
     },
     "metadata": {},
     "output_type": "display_data"
    },
    {
     "data": {
      "text/html": [
       "<pre style=\"white-space:pre;overflow-x:auto;line-height:normal;font-family:Menlo,'DejaVu Sans Mono',consolas,'Courier New',monospace\"><span style=\"color: #008080; text-decoration-color: #008080; font-weight: bold\">980</span>\n",
       "</pre>\n"
      ],
      "text/plain": [
       "\u001b[1;36m980\u001b[0m\n"
      ]
     },
     "metadata": {},
     "output_type": "display_data"
    },
    {
     "name": "stderr",
     "output_type": "stream",
     "text": [
      "100%|███████████████████████████████████████████████████████████████████████████████████| 980/980 [00:00<00:00, 4746441.02it/s]\n"
     ]
    }
   ],
   "source": [
    "res = [m.load_PH() for m in models[:10]]"
   ]
  },
  {
   "cell_type": "code",
   "execution_count": 27,
   "id": "54857a79-5c4b-44e6-8644-1703b167ac23",
   "metadata": {},
   "outputs": [
    {
     "data": {
      "image/png": "[encoded data removed]",
      "text/plain": [
       "<Figure size 432x288 with 1 Axes>"
      ]
     },
     "metadata": {
      "needs_background": "light"
     },
     "output_type": "display_data"
    },
    {
     "data": {
      "text/html": [
       "<pre style=\"white-space:pre;overflow-x:auto;line-height:normal;font-family:Menlo,'DejaVu Sans Mono',consolas,'Courier New',monospace\">\n",
       "        Name: id-<span style=\"color: #008080; text-decoration-color: #008080; font-weight: bold\">00000842</span>\n",
       "        Architecture: resnet50\n",
       "        Label: <span style=\"color: #008080; text-decoration-color: #008080; font-weight: bold\">0</span>\n",
       "        loaded: <span style=\"font-weight: bold\">[</span><span style=\"color: #008000; text-decoration-color: #008000\">'fv'</span>, <span style=\"color: #008000; text-decoration-color: #008000\">'PH_list'</span><span style=\"font-weight: bold\">]</span>\n",
       "        \n",
       "</pre>\n"
      ],
      "text/plain": [
       "\n",
       "        Name: id-\u001b[1;36m00000842\u001b[0m\n",
       "        Architecture: resnet50\n",
       "        Label: \u001b[1;36m0\u001b[0m\n",
       "        loaded: \u001b[1m[\u001b[0m\u001b[32m'fv'\u001b[0m, \u001b[32m'PH_list'\u001b[0m\u001b[1m]\u001b[0m\n",
       "        \n"
      ]
     },
     "metadata": {},
     "output_type": "display_data"
    },
    {
     "data": {
      "image/png": "[encoded data removed]",
      "text/plain": [
       "<Figure size 432x288 with 1 Axes>"
      ]
     },
     "metadata": {
      "needs_background": "light"
     },
     "output_type": "display_data"
    },
    {
     "data": {
      "text/html": [
       "<pre style=\"white-space:pre;overflow-x:auto;line-height:normal;font-family:Menlo,'DejaVu Sans Mono',consolas,'Courier New',monospace\">\n",
       "        Name: id-<span style=\"color: #008080; text-decoration-color: #008080; font-weight: bold\">00000035</span>\n",
       "        Architecture: resnet50\n",
       "        Label: <span style=\"color: #008080; text-decoration-color: #008080; font-weight: bold\">1</span>\n",
       "        loaded: <span style=\"font-weight: bold\">[</span><span style=\"color: #008000; text-decoration-color: #008000\">'fv'</span>, <span style=\"color: #008000; text-decoration-color: #008000\">'PH_list'</span><span style=\"font-weight: bold\">]</span>\n",
       "        \n",
       "</pre>\n"
      ],
      "text/plain": [
       "\n",
       "        Name: id-\u001b[1;36m00000035\u001b[0m\n",
       "        Architecture: resnet50\n",
       "        Label: \u001b[1;36m1\u001b[0m\n",
       "        loaded: \u001b[1m[\u001b[0m\u001b[32m'fv'\u001b[0m, \u001b[32m'PH_list'\u001b[0m\u001b[1m]\u001b[0m\n",
       "        \n"
      ]
     },
     "metadata": {},
     "output_type": "display_data"
    },
    {
     "data": {
      "image/png": "[encoded data removed]",
      "text/plain": [
       "<Figure size 432x288 with 1 Axes>"
      ]
     },
     "metadata": {
      "needs_background": "light"
     },
     "output_type": "display_data"
    },
    {
     "data": {
      "text/html": [
       "<pre style=\"white-space:pre;overflow-x:auto;line-height:normal;font-family:Menlo,'DejaVu Sans Mono',consolas,'Courier New',monospace\">\n",
       "        Name: id-<span style=\"color: #008080; text-decoration-color: #008080; font-weight: bold\">00000395</span>\n",
       "        Architecture: resnet50\n",
       "        Label: <span style=\"color: #008080; text-decoration-color: #008080; font-weight: bold\">1</span>\n",
       "        loaded: <span style=\"font-weight: bold\">[</span><span style=\"color: #008000; text-decoration-color: #008000\">'fv'</span>, <span style=\"color: #008000; text-decoration-color: #008000\">'PH_list'</span><span style=\"font-weight: bold\">]</span>\n",
       "        \n",
       "</pre>\n"
      ],
      "text/plain": [
       "\n",
       "        Name: id-\u001b[1;36m00000395\u001b[0m\n",
       "        Architecture: resnet50\n",
       "        Label: \u001b[1;36m1\u001b[0m\n",
       "        loaded: \u001b[1m[\u001b[0m\u001b[32m'fv'\u001b[0m, \u001b[32m'PH_list'\u001b[0m\u001b[1m]\u001b[0m\n",
       "        \n"
      ]
     },
     "metadata": {},
     "output_type": "display_data"
    },
    {
     "data": {
      "image/png": "[encoded data removed]",
      "text/plain": [
       "<Figure size 432x288 with 1 Axes>"
      ]
     },
     "metadata": {
      "needs_background": "light"
     },
     "output_type": "display_data"
    },
    {
     "data": {
      "text/html": [
       "<pre style=\"white-space:pre;overflow-x:auto;line-height:normal;font-family:Menlo,'DejaVu Sans Mono',consolas,'Courier New',monospace\">\n",
       "        Name: id-<span style=\"color: #008080; text-decoration-color: #008080; font-weight: bold\">00000683</span>\n",
       "        Architecture: resnet50\n",
       "        Label: <span style=\"color: #008080; text-decoration-color: #008080; font-weight: bold\">0</span>\n",
       "        loaded: <span style=\"font-weight: bold\">[</span><span style=\"color: #008000; text-decoration-color: #008000\">'fv'</span>, <span style=\"color: #008000; text-decoration-color: #008000\">'PH_list'</span><span style=\"font-weight: bold\">]</span>\n",
       "        \n",
       "</pre>\n"
      ],
      "text/plain": [
       "\n",
       "        Name: id-\u001b[1;36m00000683\u001b[0m\n",
       "        Architecture: resnet50\n",
       "        Label: \u001b[1;36m0\u001b[0m\n",
       "        loaded: \u001b[1m[\u001b[0m\u001b[32m'fv'\u001b[0m, \u001b[32m'PH_list'\u001b[0m\u001b[1m]\u001b[0m\n",
       "        \n"
      ]
     },
     "metadata": {},
     "output_type": "display_data"
    },
    {
     "data": {
      "image/png": "[encoded data removed]",
      "text/plain": [
       "<Figure size 432x288 with 1 Axes>"
      ]
     },
     "metadata": {
      "needs_background": "light"
     },
     "output_type": "display_data"
    },
    {
     "data": {
      "text/html": [
       "<pre style=\"white-space:pre;overflow-x:auto;line-height:normal;font-family:Menlo,'DejaVu Sans Mono',consolas,'Courier New',monospace\">\n",
       "        Name: id-<span style=\"color: #008080; text-decoration-color: #008080; font-weight: bold\">00000540</span>\n",
       "        Architecture: resnet50\n",
       "        Label: <span style=\"color: #008080; text-decoration-color: #008080; font-weight: bold\">1</span>\n",
       "        loaded: <span style=\"font-weight: bold\">[</span><span style=\"color: #008000; text-decoration-color: #008000\">'fv'</span>, <span style=\"color: #008000; text-decoration-color: #008000\">'PH_list'</span><span style=\"font-weight: bold\">]</span>\n",
       "        \n",
       "</pre>\n"
      ],
      "text/plain": [
       "\n",
       "        Name: id-\u001b[1;36m00000540\u001b[0m\n",
       "        Architecture: resnet50\n",
       "        Label: \u001b[1;36m1\u001b[0m\n",
       "        loaded: \u001b[1m[\u001b[0m\u001b[32m'fv'\u001b[0m, \u001b[32m'PH_list'\u001b[0m\u001b[1m]\u001b[0m\n",
       "        \n"
      ]
     },
     "metadata": {},
     "output_type": "display_data"
    },
    {
     "data": {
      "image/png": "[encoded data removed]",
      "text/plain": [
       "<Figure size 432x288 with 1 Axes>"
      ]
     },
     "metadata": {
      "needs_background": "light"
     },
     "output_type": "display_data"
    },
    {
     "data": {
      "text/html": [
       "<pre style=\"white-space:pre;overflow-x:auto;line-height:normal;font-family:Menlo,'DejaVu Sans Mono',consolas,'Courier New',monospace\">\n",
       "        Name: id-<span style=\"color: #008080; text-decoration-color: #008080; font-weight: bold\">00000539</span>\n",
       "        Architecture: resnet50\n",
       "        Label: <span style=\"color: #008080; text-decoration-color: #008080; font-weight: bold\">0</span>\n",
       "        loaded: <span style=\"font-weight: bold\">[</span><span style=\"color: #008000; text-decoration-color: #008000\">'fv'</span>, <span style=\"color: #008000; text-decoration-color: #008000\">'PH_list'</span><span style=\"font-weight: bold\">]</span>\n",
       "        \n",
       "</pre>\n"
      ],
      "text/plain": [
       "\n",
       "        Name: id-\u001b[1;36m00000539\u001b[0m\n",
       "        Architecture: resnet50\n",
       "        Label: \u001b[1;36m0\u001b[0m\n",
       "        loaded: \u001b[1m[\u001b[0m\u001b[32m'fv'\u001b[0m, \u001b[32m'PH_list'\u001b[0m\u001b[1m]\u001b[0m\n",
       "        \n"
      ]
     },
     "metadata": {},
     "output_type": "display_data"
    },
    {
     "data": {
      "image/png": "[encoded data removed]",
      "text/plain": [
       "<Figure size 432x288 with 1 Axes>"
      ]
     },
     "metadata": {
      "needs_background": "light"
     },
     "output_type": "display_data"
    },
    {
     "data": {
      "text/html": [
       "<pre style=\"white-space:pre;overflow-x:auto;line-height:normal;font-family:Menlo,'DejaVu Sans Mono',consolas,'Courier New',monospace\">\n",
       "        Name: id-<span style=\"color: #008080; text-decoration-color: #008080; font-weight: bold\">00000892</span>\n",
       "        Architecture: resnet50\n",
       "        Label: <span style=\"color: #008080; text-decoration-color: #008080; font-weight: bold\">0</span>\n",
       "        loaded: <span style=\"font-weight: bold\">[</span><span style=\"color: #008000; text-decoration-color: #008000\">'fv'</span>, <span style=\"color: #008000; text-decoration-color: #008000\">'PH_list'</span><span style=\"font-weight: bold\">]</span>\n",
       "        \n",
       "</pre>\n"
      ],
      "text/plain": [
       "\n",
       "        Name: id-\u001b[1;36m00000892\u001b[0m\n",
       "        Architecture: resnet50\n",
       "        Label: \u001b[1;36m0\u001b[0m\n",
       "        loaded: \u001b[1m[\u001b[0m\u001b[32m'fv'\u001b[0m, \u001b[32m'PH_list'\u001b[0m\u001b[1m]\u001b[0m\n",
       "        \n"
      ]
     },
     "metadata": {},
     "output_type": "display_data"
    },
    {
     "data": {
      "image/png": "[encoded data removed]",
      "text/plain": [
       "<Figure size 432x288 with 1 Axes>"
      ]
     },
     "metadata": {
      "needs_background": "light"
     },
     "output_type": "display_data"
    },
    {
     "data": {
      "text/html": [
       "<pre style=\"white-space:pre;overflow-x:auto;line-height:normal;font-family:Menlo,'DejaVu Sans Mono',consolas,'Courier New',monospace\">\n",
       "        Name: id-<span style=\"color: #008080; text-decoration-color: #008080; font-weight: bold\">00000375</span>\n",
       "        Architecture: resnet50\n",
       "        Label: <span style=\"color: #008080; text-decoration-color: #008080; font-weight: bold\">0</span>\n",
       "        loaded: <span style=\"font-weight: bold\">[</span><span style=\"color: #008000; text-decoration-color: #008000\">'fv'</span>, <span style=\"color: #008000; text-decoration-color: #008000\">'PH_list'</span><span style=\"font-weight: bold\">]</span>\n",
       "        \n",
       "</pre>\n"
      ],
      "text/plain": [
       "\n",
       "        Name: id-\u001b[1;36m00000375\u001b[0m\n",
       "        Architecture: resnet50\n",
       "        Label: \u001b[1;36m0\u001b[0m\n",
       "        loaded: \u001b[1m[\u001b[0m\u001b[32m'fv'\u001b[0m, \u001b[32m'PH_list'\u001b[0m\u001b[1m]\u001b[0m\n",
       "        \n"
      ]
     },
     "metadata": {},
     "output_type": "display_data"
    },
    {
     "data": {
      "image/png": "[encoded data removed]",
      "text/plain": [
       "<Figure size 432x288 with 1 Axes>"
      ]
     },
     "metadata": {
      "needs_background": "light"
     },
     "output_type": "display_data"
    },
    {
     "data": {
      "text/html": [
       "<pre style=\"white-space:pre;overflow-x:auto;line-height:normal;font-family:Menlo,'DejaVu Sans Mono',consolas,'Courier New',monospace\">\n",
       "        Name: id-<span style=\"color: #008080; text-decoration-color: #008080; font-weight: bold\">00000054</span>\n",
       "        Architecture: resnet50\n",
       "        Label: <span style=\"color: #008080; text-decoration-color: #008080; font-weight: bold\">1</span>\n",
       "        loaded: <span style=\"font-weight: bold\">[</span><span style=\"color: #008000; text-decoration-color: #008000\">'fv'</span>, <span style=\"color: #008000; text-decoration-color: #008000\">'PH_list'</span><span style=\"font-weight: bold\">]</span>\n",
       "        \n",
       "</pre>\n"
      ],
      "text/plain": [
       "\n",
       "        Name: id-\u001b[1;36m00000054\u001b[0m\n",
       "        Architecture: resnet50\n",
       "        Label: \u001b[1;36m1\u001b[0m\n",
       "        loaded: \u001b[1m[\u001b[0m\u001b[32m'fv'\u001b[0m, \u001b[32m'PH_list'\u001b[0m\u001b[1m]\u001b[0m\n",
       "        \n"
      ]
     },
     "metadata": {},
     "output_type": "display_data"
    },
    {
     "data": {
      "image/png": "[encoded data removed]",
      "text/plain": [
       "<Figure size 432x288 with 1 Axes>"
      ]
     },
     "metadata": {
      "needs_background": "light"
     },
     "output_type": "display_data"
    },
    {
     "data": {
      "text/html": [
       "<pre style=\"white-space:pre;overflow-x:auto;line-height:normal;font-family:Menlo,'DejaVu Sans Mono',consolas,'Courier New',monospace\">\n",
       "        Name: id-<span style=\"color: #008080; text-decoration-color: #008080; font-weight: bold\">00000151</span>\n",
       "        Architecture: resnet50\n",
       "        Label: <span style=\"color: #008080; text-decoration-color: #008080; font-weight: bold\">1</span>\n",
       "        loaded: <span style=\"font-weight: bold\">[</span><span style=\"color: #008000; text-decoration-color: #008000\">'fv'</span>, <span style=\"color: #008000; text-decoration-color: #008000\">'PH_list'</span><span style=\"font-weight: bold\">]</span>\n",
       "        \n",
       "</pre>\n"
      ],
      "text/plain": [
       "\n",
       "        Name: id-\u001b[1;36m00000151\u001b[0m\n",
       "        Architecture: resnet50\n",
       "        Label: \u001b[1;36m1\u001b[0m\n",
       "        loaded: \u001b[1m[\u001b[0m\u001b[32m'fv'\u001b[0m, \u001b[32m'PH_list'\u001b[0m\u001b[1m]\u001b[0m\n",
       "        \n"
      ]
     },
     "metadata": {},
     "output_type": "display_data"
    }
   ],
   "source": [
    "for idx in range(10):\n",
    "    plt.hist(res[idx])\n",
    "    plt.show()\n",
    "    print(models[idx])"
   ]
  },
  {
   "cell_type": "code",
   "execution_count": null,
   "id": "60d9f6ca-e628-4d31-a588-fdd51e077514",
   "metadata": {},
   "outputs": [],
   "source": [
    "d = [_[1] for _ in d0]\n",
    "plt.hist(d)"
   ]
  },
  {
   "cell_type": "code",
   "execution_count": 7,
   "id": "c5fae524-0ffb-499c-97b1-dd100378b6cc",
   "metadata": {},
   "outputs": [
    {
     "data": {
      "text/plain": [
       "(array([  1., 901.,  77.,   0.,   0.,   0.,   0.,   0.,   0.,   1.]),\n",
       " array([0.        , 0.11338903, 0.22677806, 0.3401671 , 0.45355613,\n",
       "        0.56694516, 0.68033419, 0.79372322, 0.90711225, 1.02050129,\n",
       "        1.13389032]),\n",
       " <BarContainer object of 10 artists>)"
      ]
     },
     "execution_count": 7,
     "metadata": {},
     "output_type": "execute_result"
    },
    {
     "data": {
      "image/png": "[encoded data removed]",
      "text/plain": [
       "<Figure size 432x288 with 1 Axes>"
      ]
     },
     "metadata": {
      "needs_background": "light"
     },
     "output_type": "display_data"
    }
   ],
   "source": [
    "d = [_[1] for _ in d1]\n",
    "plt.hist(d)"
   ]
  },
  {
   "cell_type": "code",
   "execution_count": null,
   "id": "cea32bd8-4188-4f32-809f-ef068879f861",
   "metadata": {},
   "outputs": [],
   "source": []
  },
  {
   "cell_type": "code",
   "execution_count": 8,
   "id": "47182f83-6236-497e-81f4-e2eaa0c1324e",
   "metadata": {},
   "outputs": [
    {
     "data": {
      "text/plain": [
       "720"
      ]
     },
     "execution_count": 8,
     "metadata": {},
     "output_type": "execute_result"
    }
   ],
   "source": [
    "np.argmax(d)"
   ]
  },
  {
   "cell_type": "code",
   "execution_count": 9,
   "id": "c877c005-5e62-4bf0-809d-ab0f3212050f",
   "metadata": {},
   "outputs": [
    {
     "data": {
      "text/plain": [
       "980"
      ]
     },
     "execution_count": 9,
     "metadata": {},
     "output_type": "execute_result"
    }
   ],
   "source": [
    "len(d)"
   ]
  },
  {
   "cell_type": "code",
   "execution_count": 24,
   "id": "7a8dbc7d-495b-463b-b444-2079b74e722b",
   "metadata": {},
   "outputs": [],
   "source": [
    "def plot_persistence_diagram():\n",
    "\n",
    "    def makeSparseDM(X, thresh):\n",
    "        N = X.shape[0]\n",
    "        D = pairwise_distances(X, metric='euclidean')\n",
    "        [I, J] = np.meshgrid(np.arange(N), np.arange(N))\n",
    "        I = I[D <= thresh]\n",
    "        J = J[D <= thresh]\n",
    "        V = D[D <= thresh]\n",
    "        return sparse.coo_matrix((V, (I, J)), shape=(N, N)).tocsr()\n",
    "    \n",
    "    rips = ripser.Rips()\n",
    "\n",
    "    # clean_PH_lists = [x.PH_list for x in clean]\n",
    "    # dirty_PH_lists = [x.PH_list for x in triggered]\n",
    "\n",
    "    # acc_clean = [ [], [] ]\n",
    "\n",
    "    # # ph list is of the form: [H0, H1]\n",
    "    # # take all the clean PH lists, and join them into a single list\n",
    "    # for model in clean_PH_lists:\n",
    "    #     # acc_clean[0] = np.array([*acc_clean[0], *model[0]])\n",
    "    #     # acc_clean[1] = np.array([*acc_clean[1], *model[1]])\n",
    "    #     print(model[0])\n",
    "\n",
    "    # create a matrix D as the sum of all the correlation matrices for the clean models\n",
    "\n",
    "    a = clean[0].fv[\"correlation_matrix\"]\n",
    "    a[np.isnan(a)] = 0\n",
    "\n",
    "    b = clean[1].fv[\"correlation_matrix\"]\n",
    "    b[np.isnan(b)] = 0\n",
    "\n",
    "    c = triggered[0].fv[\"correlation_matrix\"]\n",
    "    c[np.isnan(c)] = 0\n",
    "\n",
    "    # plt.figure(figsize = (10, 10))\n",
    "    # plt.matshow(a)\n",
    "    # plt.imshow(c, cmap='coolwarm', interpolation='none')\n",
    "    # plt.colorbar()\n",
    "\n",
    "    # plt.show()\n",
    "\n",
    "    # return\n",
    "    # D = triggered[0].fv[\"correlation_matrix\"]\n",
    "    D = clean[1].fv[\"correlation_matrix\"]\n",
    "    \n",
    "    #for i in range(1, len(triggered)):\n",
    "    #    D += triggered[i].fv[\"correlation_matrix\"]\n",
    "    #D /= len(triggered)\n",
    "\n",
    "    # replace all instances of Nan with 0\n",
    "    D[np.isnan(D)] = 0\n",
    "    D[np.isinf(D)] = 1\n",
    "\n",
    "    D = makeSparseDM(D, 20)\n",
    "    # plt.matshow(D)\n",
    "    # plt.show()\n",
    "    # print(D)\n",
    "\n",
    "    # lambdas=getGreedyPerm(D)\n",
    "    # print(\"lambdas\", lambdas)\n",
    "    # D = getApproxSparseDM(lambdas, 2, D)\n",
    "    # print(D)\n",
    "    PH=rips.fit_transform(D, distance_matrix=True)\n",
    "    \n",
    "\n",
    "    plt.figure(figsize = (7, 7))\n",
    "    rips.plot(PH)\n",
    "    plt.show()\n",
    "\n",
    "\n",
    "\n",
    "# plot_persistence_diagram()\n",
    "\n",
    "def histogram_params():\n",
    "    PARAM = 3\n",
    "    for i in range(len(clean_fts[0])):\n",
    "\n",
    "        a = sorted(clean_fts[:, i])[:-2]\n",
    "        b = sorted(dirty_fts[:, i])[:-2]\n",
    "        bins=np.histogram(np.hstack((a,b)), bins=40)[1] #get the bin edges\n",
    "\n",
    "\n",
    "        plt.hist(a, bins = bins, alpha=0.5, label='clean', color='green')\n",
    "# plt.hist(clean_fts[:, PARAM],  alpha=0.5, label='clean', color='green')\n",
    "        plt.hist(b, bins = bins, alpha=0.5, label='dirty', color='red')\n",
    "        plt.legend(loc='upper right')\n",
    "        plt.show()\n",
    "\n",
    "\n",
    "# histogram_params()"
   ]
  },
  {
   "cell_type": "code",
   "execution_count": 40,
   "id": "4abd7a2c-ba00-44bf-a856-dc9c8d97c06f",
   "metadata": {},
   "outputs": [
    {
     "data": {
      "text/plain": [
       "(128, 11760)"
      ]
     },
     "execution_count": 40,
     "metadata": {},
     "output_type": "execute_result"
    }
   ],
   "source": [
    "clean_fts.shape"
   ]
  },
  {
   "cell_type": "code",
   "execution_count": 143,
   "id": "a868815a-fc11-4a84-b636-ba328e6fb3d0",
   "metadata": {},
   "outputs": [],
   "source": [
    "x1 = clean_fts[1][11::12]\n",
    "x2 = dirty_fts[1][11::12]"
   ]
  },
  {
   "cell_type": "code",
   "execution_count": 145,
   "id": "d189448c-b132-4846-9f20-d6e4100b5741",
   "metadata": {},
   "outputs": [
    {
     "data": {
      "image/png": "[encoded data removed]",
      "text/plain": [
       "<Figure size 1000x600 with 1 Axes>"
      ]
     },
     "metadata": {},
     "output_type": "display_data"
    }
   ],
   "source": [
    "plt.figure(figsize=(10, 6))\n",
    "\n",
    "#bins = np.linspace(min(min(x1), min(x2)), max(max(x1), max(x2)), 40)\n",
    "bins = np.linspace(-4, 4, 40) \n",
    "# bins = 40\n",
    "\n",
    "plt.hist(x1, bins=bins, alpha=0.5, label='Clean', color='green')\n",
    "plt.hist(x2, bins=bins, alpha=0.5, label='Trojan', color='red')\n",
    "\n",
    "plt.legend(loc='upper right')\n",
    "plt.xlabel('Value')\n",
    "plt.ylabel('Frequency')\n",
    "plt.title('Average Mid Life')\n",
    "\n",
    "plt.show()"
   ]
  },
  {
   "cell_type": "code",
   "execution_count": 239,
   "id": "c3d679dd-df44-4d0e-94c1-9310588546d9",
   "metadata": {},
   "outputs": [],
   "source": [
    "\n",
    "import torch\n",
    "from torch import nn\n",
    "from torch import optim\n",
    "import torch.nn.functional as F\n",
    "\n",
    "'''\n",
    "class Net(nn.Module):\n",
    "    def __init__(self):\n",
    "        super(Net, self).__init__()\n",
    "        self.conv1 = nn.Conv2d(60, 32, kernel_size=3, stride=1, padding=1)\n",
    "        self.conv2 = nn.Conv2d(32, 64, kernel_size=3, stride=1, padding=1)\n",
    "        self.dropout = nn.Dropout(p=0.5)\n",
    "        self.fc1 = nn.Linear(64 * 14 * 14, 128)  # Adjusted for the removal of the max pooling layers\n",
    "        self.fc2 = nn.Linear(128, 1)\n",
    "\n",
    "    def forward(self, x):\n",
    "        x = F.relu(self.conv1(x))\n",
    "        # x = self.dropout(x)\n",
    "        x = F.relu(self.conv2(x))\n",
    "        x = x.view(-1, 64 * 14 * 14)  # Adjusted for the removal of the max pooling layers\n",
    "        x = F.relu(self.fc1(self.dropout(x)))\n",
    "        x = self.dropout(x)\n",
    "        x = torch.sigmoid(self.fc2(x))\n",
    "        return x\n",
    "'''\n",
    "\n",
    "class Net(nn.Module):\n",
    "    def __init__(self):\n",
    "        super(Net, self).__init__()\n",
    "        self.conv1 = nn.Conv2d(60, 64, kernel_size=3, stride=1, padding=1)\n",
    "        self.dropout1 = nn.Dropout(p=0.2)  # Increased dropout rate\n",
    "        self.conv2 = nn.Conv2d(64, 32, kernel_size=3, stride=1, padding=1)\n",
    "        self.dropout2 = nn.Dropout(p=0.2)  # Increased dropout rate\n",
    "        self.conv3 = nn.Conv2d(32, 128, kernel_size=3, stride=1, padding=1)  # Additional convolutional layer\n",
    "        self.dropout3 = nn.Dropout(p=0.2)  # Increased dropout rate\n",
    "        self.fc1 = nn.Linear(128 * 14 * 14, 256)  # Increased size and adjusted for the additional convolutional layer\n",
    "        self.dropout4 = nn.Dropout(p=0.2)  # Increased dropout rate\n",
    "        self.fc2 = nn.Linear(256, 128)  # Additional fully connected layer\n",
    "        self.dropout5 = nn.Dropout(p=0.2)  # Increased dropout rate\n",
    "        self.fc3 = nn.Linear(128, 1)\n",
    "\n",
    "    def forward(self, x):\n",
    "        x = F.relu(self.conv1(x))\n",
    "        x = self.dropout1(x)\n",
    "        x = F.relu(self.conv2(x))\n",
    "        x = self.dropout2(x)\n",
    "        x = F.relu(self.conv3(x))\n",
    "        x = self.dropout3(x)\n",
    "        x = x.view(-1, 128 * 14 * 14)\n",
    "        x = F.relu(self.fc1(self.dropout4(x)))\n",
    "        x = F.relu(self.fc2(self.dropout5(x)))\n",
    "        x = torch.sigmoid(self.fc3(x))\n",
    "        return x\n",
    "        \n",
    "    \n",
    "class cnn_classifier:\n",
    "    def __init__(self, features: Dict,\n",
    "                 labels: Dict,\n",
    "                 classifier_params = None,\n",
    "                 general_params = None\n",
    "                 ):\n",
    "        \"\"\" this needs to be able to load the data, run the classifier\n",
    "            and have a method for running tests\n",
    "        \"\"\"\n",
    "\n",
    "        self.features = features\n",
    "        self.labels = labels\n",
    "\n",
    "        print(self.features['train'].shape)\n",
    "\n",
    "        self.classifier_params = classifier_params\n",
    "        self.general_params = general_params\n",
    "\n",
    "        if self.classifier_params is None or self.general_params is None:\n",
    "            self.get_default_params()\n",
    "\n",
    "        self.model = Net()\n",
    "\n",
    "    def get_default_params(self):\n",
    "        pass\n",
    "\n",
    "    def train(self):\n",
    "        criterion = nn.BCELoss()\n",
    "        optimizer = optim.SGD(self.model.parameters(), lr=0.001, momentum=0.9)\n",
    "\n",
    "        for epoch in range(12):  # loop over the dataset multiple times\n",
    "            running_loss = 0.0\n",
    "            for i, data in enumerate(self.features['train'], 0):\n",
    "                # get the inputs; data is a list of [inputs, labels]\n",
    "                inputs = data\n",
    "                labels = (self.labels['train'][i]).reshape(1,1)\n",
    "                \n",
    "\n",
    "                # zero the parameter gradients\n",
    "                optimizer.zero_grad()\n",
    "\n",
    "                # forward + backward + optimize\n",
    "                # print(labels.shape)\n",
    "                outputs = self.model(inputs)\n",
    "                # print(\"OK\")\n",
    "                loss = criterion(outputs, labels)\n",
    "                loss.backward()\n",
    "                optimizer.step()\n",
    "\n",
    "                # print statistics\n",
    "                running_loss += loss.item()\n",
    "                if i % 100 == 99:    # print every 2000 mini-batches\n",
    "                    print('[%d, %5d] loss: %.3f' %\n",
    "                          (epoch + 1, i + 1, running_loss / 2000))\n",
    "                    running_loss = 0.0\n",
    "\n",
    "        print('Finished Training')\n",
    "\n",
    "    def eval_on_train(self):\n",
    "        correct = 0\n",
    "        total = 0\n",
    "        with torch.no_grad():\n",
    "            for i, data in enumerate(self.features['train'], 0):\n",
    "                images, labels = data, self.labels['train'][i]\n",
    "                outputs = self.model(images)\n",
    "                # print(outputs)\n",
    "                predicted = (outputs.data > 0.5)\n",
    "                total += labels.size(0)\n",
    "                correct += (predicted == labels).sum().item()\n",
    "\n",
    "        print('Accuracy of the network on the train images: %d %%' % (\n",
    "            100 * correct / total))\n",
    "        \n",
    "    def test(self):\n",
    "        correct = 0\n",
    "        total = 0\n",
    "        with torch.no_grad():\n",
    "            for i, data in enumerate(self.features['test'], 0):\n",
    "                images, labels = data, self.labels['test'][i]\n",
    "                outputs = self.model(images)\n",
    "                # print(outputs)\n",
    "                predicted = (outputs.data > 0.5)\n",
    "                total += labels.size(0)\n",
    "                correct += (predicted == labels).sum().item()\n",
    "\n",
    "        print('Accuracy of the network on the test images: %d %%' % (\n",
    "            100 * correct / total))\n"
   ]
  },
  {
   "cell_type": "code",
   "execution_count": 240,
   "id": "af11142c-f2ce-4270-b38e-53adc468b8dc",
   "metadata": {},
   "outputs": [
    {
     "data": {
      "text/html": [
       "<pre style=\"white-space:pre;overflow-x:auto;line-height:normal;font-family:Menlo,'DejaVu Sans Mono',consolas,'Courier New',monospace\"><span style=\"font-weight: bold\">(</span><span style=\"color: #008080; text-decoration-color: #008080; font-weight: bold\">256</span>, <span style=\"color: #008080; text-decoration-color: #008080; font-weight: bold\">60</span>, <span style=\"color: #008080; text-decoration-color: #008080; font-weight: bold\">14</span>, <span style=\"color: #008080; text-decoration-color: #008080; font-weight: bold\">14</span><span style=\"font-weight: bold\">)</span>\n",
       "</pre>\n"
      ],
      "text/plain": [
       "\u001b[1m(\u001b[0m\u001b[1;36m256\u001b[0m, \u001b[1;36m60\u001b[0m, \u001b[1;36m14\u001b[0m, \u001b[1;36m14\u001b[0m\u001b[1m)\u001b[0m\n"
      ]
     },
     "metadata": {},
     "output_type": "display_data"
    }
   ],
   "source": [
    "dat = ft['features']\n",
    "dat = dat.reshape(256, 60, 14, 14) \n",
    "print(dat.shape)\n",
    "\n",
    "dat = torch.from_numpy(dat).float()\n",
    "\n",
    "gt_list = ft['labels']\n",
    "gt_list = torch.tensor(gt_list, dtype=torch.float32).reshape(-1, 1)\n",
    "\n",
    "N = len(gt_list)\n",
    "n_train = int(TRAIN_TEST_SPLIT * N)\n",
    "ind_reshuffle = np.random.choice(list(range(N)), N, replace=False)\n",
    "train_ind = ind_reshuffle[:n_train]\n",
    "test_ind = ind_reshuffle[n_train:]\n",
    "\n",
    "feature_train, feature_test = dat[train_ind], dat[test_ind]\n",
    "gt_train, gt_test = gt_list[train_ind], gt_list[test_ind]"
   ]
  },
  {
   "cell_type": "code",
   "execution_count": 241,
   "id": "52d7f14a-7721-4182-90a9-9c43f9df9d41",
   "metadata": {},
   "outputs": [
    {
     "data": {
      "text/html": [
       "<pre style=\"white-space:pre;overflow-x:auto;line-height:normal;font-family:Menlo,'DejaVu Sans Mono',consolas,'Courier New',monospace\"><span style=\"color: #800080; text-decoration-color: #800080; font-weight: bold\">torch.Size</span><span style=\"font-weight: bold\">([</span><span style=\"color: #008080; text-decoration-color: #008080; font-weight: bold\">204</span>, <span style=\"color: #008080; text-decoration-color: #008080; font-weight: bold\">60</span>, <span style=\"color: #008080; text-decoration-color: #008080; font-weight: bold\">14</span>, <span style=\"color: #008080; text-decoration-color: #008080; font-weight: bold\">14</span><span style=\"font-weight: bold\">])</span>\n",
       "</pre>\n"
      ],
      "text/plain": [
       "\u001b[1;35mtorch.Size\u001b[0m\u001b[1m(\u001b[0m\u001b[1m[\u001b[0m\u001b[1;36m204\u001b[0m, \u001b[1;36m60\u001b[0m, \u001b[1;36m14\u001b[0m, \u001b[1;36m14\u001b[0m\u001b[1m]\u001b[0m\u001b[1m)\u001b[0m\n"
      ]
     },
     "metadata": {},
     "output_type": "display_data"
    }
   ],
   "source": [
    "X = cnn_classifier(\n",
    "    features = {\n",
    "        'train': feature_train, 'test': feature_test\n",
    "    },\n",
    "    labels = {\n",
    "        'train': gt_train, 'test':gt_test\n",
    "    }\n",
    ")"
   ]
  },
  {
   "cell_type": "code",
   "execution_count": 242,
   "id": "bb7f53d4-9fe4-424b-a5dc-25b37f1d505c",
   "metadata": {},
   "outputs": [
    {
     "data": {
      "text/html": [
       "<pre style=\"white-space:pre;overflow-x:auto;line-height:normal;font-family:Menlo,'DejaVu Sans Mono',consolas,'Courier New',monospace\"><span style=\"font-weight: bold\">[</span><span style=\"color: #008080; text-decoration-color: #008080; font-weight: bold\">1</span>,   <span style=\"color: #008080; text-decoration-color: #008080; font-weight: bold\">100</span><span style=\"font-weight: bold\">]</span> loss: <span style=\"color: #008080; text-decoration-color: #008080; font-weight: bold\">0.035</span>\n",
       "</pre>\n"
      ],
      "text/plain": [
       "\u001b[1m[\u001b[0m\u001b[1;36m1\u001b[0m,   \u001b[1;36m100\u001b[0m\u001b[1m]\u001b[0m loss: \u001b[1;36m0.035\u001b[0m\n"
      ]
     },
     "metadata": {},
     "output_type": "display_data"
    },
    {
     "data": {
      "text/html": [
       "<pre style=\"white-space:pre;overflow-x:auto;line-height:normal;font-family:Menlo,'DejaVu Sans Mono',consolas,'Courier New',monospace\"><span style=\"font-weight: bold\">[</span><span style=\"color: #008080; text-decoration-color: #008080; font-weight: bold\">1</span>,   <span style=\"color: #008080; text-decoration-color: #008080; font-weight: bold\">200</span><span style=\"font-weight: bold\">]</span> loss: <span style=\"color: #008080; text-decoration-color: #008080; font-weight: bold\">0.035</span>\n",
       "</pre>\n"
      ],
      "text/plain": [
       "\u001b[1m[\u001b[0m\u001b[1;36m1\u001b[0m,   \u001b[1;36m200\u001b[0m\u001b[1m]\u001b[0m loss: \u001b[1;36m0.035\u001b[0m\n"
      ]
     },
     "metadata": {},
     "output_type": "display_data"
    },
    {
     "data": {
      "text/html": [
       "<pre style=\"white-space:pre;overflow-x:auto;line-height:normal;font-family:Menlo,'DejaVu Sans Mono',consolas,'Courier New',monospace\"><span style=\"font-weight: bold\">[</span><span style=\"color: #008080; text-decoration-color: #008080; font-weight: bold\">2</span>,   <span style=\"color: #008080; text-decoration-color: #008080; font-weight: bold\">100</span><span style=\"font-weight: bold\">]</span> loss: <span style=\"color: #008080; text-decoration-color: #008080; font-weight: bold\">0.034</span>\n",
       "</pre>\n"
      ],
      "text/plain": [
       "\u001b[1m[\u001b[0m\u001b[1;36m2\u001b[0m,   \u001b[1;36m100\u001b[0m\u001b[1m]\u001b[0m loss: \u001b[1;36m0.034\u001b[0m\n"
      ]
     },
     "metadata": {},
     "output_type": "display_data"
    },
    {
     "data": {
      "text/html": [
       "<pre style=\"white-space:pre;overflow-x:auto;line-height:normal;font-family:Menlo,'DejaVu Sans Mono',consolas,'Courier New',monospace\"><span style=\"font-weight: bold\">[</span><span style=\"color: #008080; text-decoration-color: #008080; font-weight: bold\">2</span>,   <span style=\"color: #008080; text-decoration-color: #008080; font-weight: bold\">200</span><span style=\"font-weight: bold\">]</span> loss: <span style=\"color: #008080; text-decoration-color: #008080; font-weight: bold\">0.034</span>\n",
       "</pre>\n"
      ],
      "text/plain": [
       "\u001b[1m[\u001b[0m\u001b[1;36m2\u001b[0m,   \u001b[1;36m200\u001b[0m\u001b[1m]\u001b[0m loss: \u001b[1;36m0.034\u001b[0m\n"
      ]
     },
     "metadata": {},
     "output_type": "display_data"
    },
    {
     "data": {
      "text/html": [
       "<pre style=\"white-space:pre;overflow-x:auto;line-height:normal;font-family:Menlo,'DejaVu Sans Mono',consolas,'Courier New',monospace\"><span style=\"font-weight: bold\">[</span><span style=\"color: #008080; text-decoration-color: #008080; font-weight: bold\">3</span>,   <span style=\"color: #008080; text-decoration-color: #008080; font-weight: bold\">100</span><span style=\"font-weight: bold\">]</span> loss: <span style=\"color: #008080; text-decoration-color: #008080; font-weight: bold\">0.032</span>\n",
       "</pre>\n"
      ],
      "text/plain": [
       "\u001b[1m[\u001b[0m\u001b[1;36m3\u001b[0m,   \u001b[1;36m100\u001b[0m\u001b[1m]\u001b[0m loss: \u001b[1;36m0.032\u001b[0m\n"
      ]
     },
     "metadata": {},
     "output_type": "display_data"
    },
    {
     "data": {
      "text/html": [
       "<pre style=\"white-space:pre;overflow-x:auto;line-height:normal;font-family:Menlo,'DejaVu Sans Mono',consolas,'Courier New',monospace\"><span style=\"font-weight: bold\">[</span><span style=\"color: #008080; text-decoration-color: #008080; font-weight: bold\">3</span>,   <span style=\"color: #008080; text-decoration-color: #008080; font-weight: bold\">200</span><span style=\"font-weight: bold\">]</span> loss: <span style=\"color: #008080; text-decoration-color: #008080; font-weight: bold\">0.033</span>\n",
       "</pre>\n"
      ],
      "text/plain": [
       "\u001b[1m[\u001b[0m\u001b[1;36m3\u001b[0m,   \u001b[1;36m200\u001b[0m\u001b[1m]\u001b[0m loss: \u001b[1;36m0.033\u001b[0m\n"
      ]
     },
     "metadata": {},
     "output_type": "display_data"
    },
    {
     "data": {
      "text/html": [
       "<pre style=\"white-space:pre;overflow-x:auto;line-height:normal;font-family:Menlo,'DejaVu Sans Mono',consolas,'Courier New',monospace\"><span style=\"font-weight: bold\">[</span><span style=\"color: #008080; text-decoration-color: #008080; font-weight: bold\">4</span>,   <span style=\"color: #008080; text-decoration-color: #008080; font-weight: bold\">100</span><span style=\"font-weight: bold\">]</span> loss: <span style=\"color: #008080; text-decoration-color: #008080; font-weight: bold\">0.029</span>\n",
       "</pre>\n"
      ],
      "text/plain": [
       "\u001b[1m[\u001b[0m\u001b[1;36m4\u001b[0m,   \u001b[1;36m100\u001b[0m\u001b[1m]\u001b[0m loss: \u001b[1;36m0.029\u001b[0m\n"
      ]
     },
     "metadata": {},
     "output_type": "display_data"
    },
    {
     "data": {
      "text/html": [
       "<pre style=\"white-space:pre;overflow-x:auto;line-height:normal;font-family:Menlo,'DejaVu Sans Mono',consolas,'Courier New',monospace\"><span style=\"font-weight: bold\">[</span><span style=\"color: #008080; text-decoration-color: #008080; font-weight: bold\">4</span>,   <span style=\"color: #008080; text-decoration-color: #008080; font-weight: bold\">200</span><span style=\"font-weight: bold\">]</span> loss: <span style=\"color: #008080; text-decoration-color: #008080; font-weight: bold\">0.029</span>\n",
       "</pre>\n"
      ],
      "text/plain": [
       "\u001b[1m[\u001b[0m\u001b[1;36m4\u001b[0m,   \u001b[1;36m200\u001b[0m\u001b[1m]\u001b[0m loss: \u001b[1;36m0.029\u001b[0m\n"
      ]
     },
     "metadata": {},
     "output_type": "display_data"
    },
    {
     "data": {
      "text/html": [
       "<pre style=\"white-space:pre;overflow-x:auto;line-height:normal;font-family:Menlo,'DejaVu Sans Mono',consolas,'Courier New',monospace\"><span style=\"font-weight: bold\">[</span><span style=\"color: #008080; text-decoration-color: #008080; font-weight: bold\">5</span>,   <span style=\"color: #008080; text-decoration-color: #008080; font-weight: bold\">100</span><span style=\"font-weight: bold\">]</span> loss: <span style=\"color: #008080; text-decoration-color: #008080; font-weight: bold\">0.025</span>\n",
       "</pre>\n"
      ],
      "text/plain": [
       "\u001b[1m[\u001b[0m\u001b[1;36m5\u001b[0m,   \u001b[1;36m100\u001b[0m\u001b[1m]\u001b[0m loss: \u001b[1;36m0.025\u001b[0m\n"
      ]
     },
     "metadata": {},
     "output_type": "display_data"
    },
    {
     "data": {
      "text/html": [
       "<pre style=\"white-space:pre;overflow-x:auto;line-height:normal;font-family:Menlo,'DejaVu Sans Mono',consolas,'Courier New',monospace\"><span style=\"font-weight: bold\">[</span><span style=\"color: #008080; text-decoration-color: #008080; font-weight: bold\">5</span>,   <span style=\"color: #008080; text-decoration-color: #008080; font-weight: bold\">200</span><span style=\"font-weight: bold\">]</span> loss: <span style=\"color: #008080; text-decoration-color: #008080; font-weight: bold\">0.027</span>\n",
       "</pre>\n"
      ],
      "text/plain": [
       "\u001b[1m[\u001b[0m\u001b[1;36m5\u001b[0m,   \u001b[1;36m200\u001b[0m\u001b[1m]\u001b[0m loss: \u001b[1;36m0.027\u001b[0m\n"
      ]
     },
     "metadata": {},
     "output_type": "display_data"
    },
    {
     "data": {
      "text/html": [
       "<pre style=\"white-space:pre;overflow-x:auto;line-height:normal;font-family:Menlo,'DejaVu Sans Mono',consolas,'Courier New',monospace\"><span style=\"font-weight: bold\">[</span><span style=\"color: #008080; text-decoration-color: #008080; font-weight: bold\">6</span>,   <span style=\"color: #008080; text-decoration-color: #008080; font-weight: bold\">100</span><span style=\"font-weight: bold\">]</span> loss: <span style=\"color: #008080; text-decoration-color: #008080; font-weight: bold\">0.021</span>\n",
       "</pre>\n"
      ],
      "text/plain": [
       "\u001b[1m[\u001b[0m\u001b[1;36m6\u001b[0m,   \u001b[1;36m100\u001b[0m\u001b[1m]\u001b[0m loss: \u001b[1;36m0.021\u001b[0m\n"
      ]
     },
     "metadata": {},
     "output_type": "display_data"
    },
    {
     "data": {
      "text/html": [
       "<pre style=\"white-space:pre;overflow-x:auto;line-height:normal;font-family:Menlo,'DejaVu Sans Mono',consolas,'Courier New',monospace\"><span style=\"font-weight: bold\">[</span><span style=\"color: #008080; text-decoration-color: #008080; font-weight: bold\">6</span>,   <span style=\"color: #008080; text-decoration-color: #008080; font-weight: bold\">200</span><span style=\"font-weight: bold\">]</span> loss: <span style=\"color: #008080; text-decoration-color: #008080; font-weight: bold\">0.021</span>\n",
       "</pre>\n"
      ],
      "text/plain": [
       "\u001b[1m[\u001b[0m\u001b[1;36m6\u001b[0m,   \u001b[1;36m200\u001b[0m\u001b[1m]\u001b[0m loss: \u001b[1;36m0.021\u001b[0m\n"
      ]
     },
     "metadata": {},
     "output_type": "display_data"
    },
    {
     "data": {
      "text/html": [
       "<pre style=\"white-space:pre;overflow-x:auto;line-height:normal;font-family:Menlo,'DejaVu Sans Mono',consolas,'Courier New',monospace\"><span style=\"font-weight: bold\">[</span><span style=\"color: #008080; text-decoration-color: #008080; font-weight: bold\">7</span>,   <span style=\"color: #008080; text-decoration-color: #008080; font-weight: bold\">100</span><span style=\"font-weight: bold\">]</span> loss: <span style=\"color: #008080; text-decoration-color: #008080; font-weight: bold\">0.015</span>\n",
       "</pre>\n"
      ],
      "text/plain": [
       "\u001b[1m[\u001b[0m\u001b[1;36m7\u001b[0m,   \u001b[1;36m100\u001b[0m\u001b[1m]\u001b[0m loss: \u001b[1;36m0.015\u001b[0m\n"
      ]
     },
     "metadata": {},
     "output_type": "display_data"
    },
    {
     "data": {
      "text/html": [
       "<pre style=\"white-space:pre;overflow-x:auto;line-height:normal;font-family:Menlo,'DejaVu Sans Mono',consolas,'Courier New',monospace\"><span style=\"font-weight: bold\">[</span><span style=\"color: #008080; text-decoration-color: #008080; font-weight: bold\">7</span>,   <span style=\"color: #008080; text-decoration-color: #008080; font-weight: bold\">200</span><span style=\"font-weight: bold\">]</span> loss: <span style=\"color: #008080; text-decoration-color: #008080; font-weight: bold\">0.009</span>\n",
       "</pre>\n"
      ],
      "text/plain": [
       "\u001b[1m[\u001b[0m\u001b[1;36m7\u001b[0m,   \u001b[1;36m200\u001b[0m\u001b[1m]\u001b[0m loss: \u001b[1;36m0.009\u001b[0m\n"
      ]
     },
     "metadata": {},
     "output_type": "display_data"
    },
    {
     "data": {
      "text/html": [
       "<pre style=\"white-space:pre;overflow-x:auto;line-height:normal;font-family:Menlo,'DejaVu Sans Mono',consolas,'Courier New',monospace\"><span style=\"font-weight: bold\">[</span><span style=\"color: #008080; text-decoration-color: #008080; font-weight: bold\">8</span>,   <span style=\"color: #008080; text-decoration-color: #008080; font-weight: bold\">100</span><span style=\"font-weight: bold\">]</span> loss: <span style=\"color: #008080; text-decoration-color: #008080; font-weight: bold\">0.007</span>\n",
       "</pre>\n"
      ],
      "text/plain": [
       "\u001b[1m[\u001b[0m\u001b[1;36m8\u001b[0m,   \u001b[1;36m100\u001b[0m\u001b[1m]\u001b[0m loss: \u001b[1;36m0.007\u001b[0m\n"
      ]
     },
     "metadata": {},
     "output_type": "display_data"
    },
    {
     "data": {
      "text/html": [
       "<pre style=\"white-space:pre;overflow-x:auto;line-height:normal;font-family:Menlo,'DejaVu Sans Mono',consolas,'Courier New',monospace\"><span style=\"font-weight: bold\">[</span><span style=\"color: #008080; text-decoration-color: #008080; font-weight: bold\">8</span>,   <span style=\"color: #008080; text-decoration-color: #008080; font-weight: bold\">200</span><span style=\"font-weight: bold\">]</span> loss: <span style=\"color: #008080; text-decoration-color: #008080; font-weight: bold\">0.008</span>\n",
       "</pre>\n"
      ],
      "text/plain": [
       "\u001b[1m[\u001b[0m\u001b[1;36m8\u001b[0m,   \u001b[1;36m200\u001b[0m\u001b[1m]\u001b[0m loss: \u001b[1;36m0.008\u001b[0m\n"
      ]
     },
     "metadata": {},
     "output_type": "display_data"
    },
    {
     "data": {
      "text/html": [
       "<pre style=\"white-space:pre;overflow-x:auto;line-height:normal;font-family:Menlo,'DejaVu Sans Mono',consolas,'Courier New',monospace\"><span style=\"font-weight: bold\">[</span><span style=\"color: #008080; text-decoration-color: #008080; font-weight: bold\">9</span>,   <span style=\"color: #008080; text-decoration-color: #008080; font-weight: bold\">100</span><span style=\"font-weight: bold\">]</span> loss: <span style=\"color: #008080; text-decoration-color: #008080; font-weight: bold\">0.006</span>\n",
       "</pre>\n"
      ],
      "text/plain": [
       "\u001b[1m[\u001b[0m\u001b[1;36m9\u001b[0m,   \u001b[1;36m100\u001b[0m\u001b[1m]\u001b[0m loss: \u001b[1;36m0.006\u001b[0m\n"
      ]
     },
     "metadata": {},
     "output_type": "display_data"
    },
    {
     "data": {
      "text/html": [
       "<pre style=\"white-space:pre;overflow-x:auto;line-height:normal;font-family:Menlo,'DejaVu Sans Mono',consolas,'Courier New',monospace\"><span style=\"font-weight: bold\">[</span><span style=\"color: #008080; text-decoration-color: #008080; font-weight: bold\">9</span>,   <span style=\"color: #008080; text-decoration-color: #008080; font-weight: bold\">200</span><span style=\"font-weight: bold\">]</span> loss: <span style=\"color: #008080; text-decoration-color: #008080; font-weight: bold\">0.006</span>\n",
       "</pre>\n"
      ],
      "text/plain": [
       "\u001b[1m[\u001b[0m\u001b[1;36m9\u001b[0m,   \u001b[1;36m200\u001b[0m\u001b[1m]\u001b[0m loss: \u001b[1;36m0.006\u001b[0m\n"
      ]
     },
     "metadata": {},
     "output_type": "display_data"
    },
    {
     "data": {
      "text/html": [
       "<pre style=\"white-space:pre;overflow-x:auto;line-height:normal;font-family:Menlo,'DejaVu Sans Mono',consolas,'Courier New',monospace\"><span style=\"font-weight: bold\">[</span><span style=\"color: #008080; text-decoration-color: #008080; font-weight: bold\">10</span>,   <span style=\"color: #008080; text-decoration-color: #008080; font-weight: bold\">100</span><span style=\"font-weight: bold\">]</span> loss: <span style=\"color: #008080; text-decoration-color: #008080; font-weight: bold\">0.003</span>\n",
       "</pre>\n"
      ],
      "text/plain": [
       "\u001b[1m[\u001b[0m\u001b[1;36m10\u001b[0m,   \u001b[1;36m100\u001b[0m\u001b[1m]\u001b[0m loss: \u001b[1;36m0.003\u001b[0m\n"
      ]
     },
     "metadata": {},
     "output_type": "display_data"
    },
    {
     "data": {
      "text/html": [
       "<pre style=\"white-space:pre;overflow-x:auto;line-height:normal;font-family:Menlo,'DejaVu Sans Mono',consolas,'Courier New',monospace\"><span style=\"font-weight: bold\">[</span><span style=\"color: #008080; text-decoration-color: #008080; font-weight: bold\">10</span>,   <span style=\"color: #008080; text-decoration-color: #008080; font-weight: bold\">200</span><span style=\"font-weight: bold\">]</span> loss: <span style=\"color: #008080; text-decoration-color: #008080; font-weight: bold\">0.004</span>\n",
       "</pre>\n"
      ],
      "text/plain": [
       "\u001b[1m[\u001b[0m\u001b[1;36m10\u001b[0m,   \u001b[1;36m200\u001b[0m\u001b[1m]\u001b[0m loss: \u001b[1;36m0.004\u001b[0m\n"
      ]
     },
     "metadata": {},
     "output_type": "display_data"
    },
    {
     "data": {
      "text/html": [
       "<pre style=\"white-space:pre;overflow-x:auto;line-height:normal;font-family:Menlo,'DejaVu Sans Mono',consolas,'Courier New',monospace\"><span style=\"font-weight: bold\">[</span><span style=\"color: #008080; text-decoration-color: #008080; font-weight: bold\">11</span>,   <span style=\"color: #008080; text-decoration-color: #008080; font-weight: bold\">100</span><span style=\"font-weight: bold\">]</span> loss: <span style=\"color: #008080; text-decoration-color: #008080; font-weight: bold\">0.012</span>\n",
       "</pre>\n"
      ],
      "text/plain": [
       "\u001b[1m[\u001b[0m\u001b[1;36m11\u001b[0m,   \u001b[1;36m100\u001b[0m\u001b[1m]\u001b[0m loss: \u001b[1;36m0.012\u001b[0m\n"
      ]
     },
     "metadata": {},
     "output_type": "display_data"
    },
    {
     "data": {
      "text/html": [
       "<pre style=\"white-space:pre;overflow-x:auto;line-height:normal;font-family:Menlo,'DejaVu Sans Mono',consolas,'Courier New',monospace\"><span style=\"font-weight: bold\">[</span><span style=\"color: #008080; text-decoration-color: #008080; font-weight: bold\">11</span>,   <span style=\"color: #008080; text-decoration-color: #008080; font-weight: bold\">200</span><span style=\"font-weight: bold\">]</span> loss: <span style=\"color: #008080; text-decoration-color: #008080; font-weight: bold\">0.003</span>\n",
       "</pre>\n"
      ],
      "text/plain": [
       "\u001b[1m[\u001b[0m\u001b[1;36m11\u001b[0m,   \u001b[1;36m200\u001b[0m\u001b[1m]\u001b[0m loss: \u001b[1;36m0.003\u001b[0m\n"
      ]
     },
     "metadata": {},
     "output_type": "display_data"
    },
    {
     "data": {
      "text/html": [
       "<pre style=\"white-space:pre;overflow-x:auto;line-height:normal;font-family:Menlo,'DejaVu Sans Mono',consolas,'Courier New',monospace\"><span style=\"font-weight: bold\">[</span><span style=\"color: #008080; text-decoration-color: #008080; font-weight: bold\">12</span>,   <span style=\"color: #008080; text-decoration-color: #008080; font-weight: bold\">100</span><span style=\"font-weight: bold\">]</span> loss: <span style=\"color: #008080; text-decoration-color: #008080; font-weight: bold\">0.002</span>\n",
       "</pre>\n"
      ],
      "text/plain": [
       "\u001b[1m[\u001b[0m\u001b[1;36m12\u001b[0m,   \u001b[1;36m100\u001b[0m\u001b[1m]\u001b[0m loss: \u001b[1;36m0.002\u001b[0m\n"
      ]
     },
     "metadata": {},
     "output_type": "display_data"
    },
    {
     "data": {
      "text/html": [
       "<pre style=\"white-space:pre;overflow-x:auto;line-height:normal;font-family:Menlo,'DejaVu Sans Mono',consolas,'Courier New',monospace\"><span style=\"font-weight: bold\">[</span><span style=\"color: #008080; text-decoration-color: #008080; font-weight: bold\">12</span>,   <span style=\"color: #008080; text-decoration-color: #008080; font-weight: bold\">200</span><span style=\"font-weight: bold\">]</span> loss: <span style=\"color: #008080; text-decoration-color: #008080; font-weight: bold\">0.001</span>\n",
       "</pre>\n"
      ],
      "text/plain": [
       "\u001b[1m[\u001b[0m\u001b[1;36m12\u001b[0m,   \u001b[1;36m200\u001b[0m\u001b[1m]\u001b[0m loss: \u001b[1;36m0.001\u001b[0m\n"
      ]
     },
     "metadata": {},
     "output_type": "display_data"
    },
    {
     "data": {
      "text/html": [
       "<pre style=\"white-space:pre;overflow-x:auto;line-height:normal;font-family:Menlo,'DejaVu Sans Mono',consolas,'Courier New',monospace\">Finished Training\n",
       "</pre>\n"
      ],
      "text/plain": [
       "Finished Training\n"
      ]
     },
     "metadata": {},
     "output_type": "display_data"
    }
   ],
   "source": [
    "X.train()"
   ]
  },
  {
   "cell_type": "code",
   "execution_count": 245,
   "id": "a0410901-520b-4f69-89b6-237d9f4a4e5b",
   "metadata": {},
   "outputs": [
    {
     "data": {
      "text/html": [
       "<pre style=\"white-space:pre;overflow-x:auto;line-height:normal;font-family:Menlo,'DejaVu Sans Mono',consolas,'Courier New',monospace\">Accuracy of the network on the test images: <span style=\"color: #008080; text-decoration-color: #008080; font-weight: bold\">63</span> %\n",
       "</pre>\n"
      ],
      "text/plain": [
       "Accuracy of the network on the test images: \u001b[1;36m63\u001b[0m %\n"
      ]
     },
     "metadata": {},
     "output_type": "display_data"
    }
   ],
   "source": [
    "X.test()"
   ]
  },
  {
   "cell_type": "code",
   "execution_count": 246,
   "id": "5fb7cd37-94e9-4c1f-85da-9bfc02f2c51a",
   "metadata": {},
   "outputs": [
    {
     "data": {
      "text/html": [
       "<pre style=\"white-space:pre;overflow-x:auto;line-height:normal;font-family:Menlo,'DejaVu Sans Mono',consolas,'Courier New',monospace\">Accuracy of the network on the train images: <span style=\"color: #008080; text-decoration-color: #008080; font-weight: bold\">100</span> %\n",
       "</pre>\n"
      ],
      "text/plain": [
       "Accuracy of the network on the train images: \u001b[1;36m100\u001b[0m %\n"
      ]
     },
     "metadata": {},
     "output_type": "display_data"
    }
   ],
   "source": [
    "X.eval_on_train()"
   ]
  },
  {
   "cell_type": "code",
   "execution_count": null,
   "id": "577d4ca0-1baf-446c-beae-aee2bf84403e",
   "metadata": {},
   "outputs": [],
   "source": []
  }
 ],
 "metadata": {
  "kernelspec": {
   "display_name": "Python [conda env:TopoDetect] *",
   "language": "python",
   "name": "conda-env-TopoDetect-py"
  },
  "language_info": {
   "codemirror_mode": {
    "name": "ipython",
    "version": 3
   },
   "file_extension": ".py",
   "mimetype": "text/x-python",
   "name": "python",
   "nbconvert_exporter": "python",
   "pygments_lexer": "ipython3",
   "version": "3.8.5"
  }
 },
 "nbformat": 4,
 "nbformat_minor": 5
}
